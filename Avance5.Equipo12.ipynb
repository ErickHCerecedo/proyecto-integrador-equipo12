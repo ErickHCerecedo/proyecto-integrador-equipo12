{
 "cells": [
  {
   "cell_type": "markdown",
   "metadata": {},
   "source": [
    "# Avance 5. Modelo final \n",
    "Maestría en Inteligencia Artificial Aplicada\n",
    "\n",
    "Abraham Rincón Treviño  A00819677\n",
    "\n",
    "Erick de Jesus Hernández Cerecedo A01066428\n",
    "\n",
    "México, 3 de marzo de 2024"
   ]
  },
  {
   "cell_type": "markdown",
   "metadata": {},
   "source": [
    "## Importación de datos y preparación de los mismos\n",
    "1. Comenzando con el proceso de la actividad se importaron los datos desde Spark mediante una consulta SQL.\n",
    "2. Porsteriormente se transforman los datos a un Dataframe de Pandas para facilitar su análisis y manejo.\n",
    "3. Visualización de los conjuntos de datos obtenidos."
   ]
  },
  {
   "cell_type": "code",
   "execution_count": null,
   "metadata": {
    "application/vnd.databricks.v1+cell": {
     "cellMetadata": {
      "byteLimit": 2048000,
      "rowLimit": 10000
     },
     "inputWidgets": {},
     "nuid": "d552673f-d7df-4eb1-b637-13b750a4b83a",
     "showTitle": false,
     "title": ""
    }
   },
   "outputs": [],
   "source": [
    "from pyspark.sql import SparkSession\n",
    "\n",
    "sesion = SparkSession.builder.appName(\"test\").getOrCreate()\n",
    "\n",
    "test = \"\"\"\n",
    "    SELECT * FROM gold.info_l300.finished_data\n",
    "\"\"\"\n",
    "\n",
    "data_frame = sesion.sql(test)"
   ]
  },
  {
   "cell_type": "code",
   "execution_count": null,
   "metadata": {
    "application/vnd.databricks.v1+cell": {
     "cellMetadata": {
      "byteLimit": 2048000,
      "rowLimit": 10000
     },
     "inputWidgets": {},
     "nuid": "2e86d2f2-5d90-439f-9c6d-26679ea2cee4",
     "showTitle": false,
     "title": ""
    }
   },
   "outputs": [],
   "source": [
    "import pyspark.pandas as ps\n",
    "\n",
    "df = ps.DataFrame(data_frame)"
   ]
  },
  {
   "cell_type": "code",
   "execution_count": null,
   "metadata": {
    "application/vnd.databricks.v1+cell": {
     "cellMetadata": {
      "byteLimit": 2048000,
      "rowLimit": 10000
     },
     "inputWidgets": {},
     "nuid": "3db3f0e1-6896-4760-8f68-058eaba54c94",
     "showTitle": false,
     "title": ""
    }
   },
   "outputs": [
    {
     "data": {
      "text/html": [
       "<style scoped>\n",
       "  .table-result-container {\n",
       "    max-height: 300px;\n",
       "    overflow: auto;\n",
       "  }\n",
       "  table, th, td {\n",
       "    border: 1px solid black;\n",
       "    border-collapse: collapse;\n",
       "  }\n",
       "  th, td {\n",
       "    padding: 5px;\n",
       "  }\n",
       "  th {\n",
       "    text-align: left;\n",
       "  }\n",
       "</style><div class='table-result-container'><table class='table-result'><thead style='background-color: white'><tr><th>Customer</th><th>arriveDifference</th><th>onTimeArrival</th><th>departureDifference</th><th>onTimeDeparture</th><th>avg_speed</th><th>distance</th></tr></thead><tbody><tr><td>Mondelez Global LLC</td><td>-5512.0</td><td>true</td><td>12472.0</td><td>false</td><td>12.431646</td><td>455238.34</td></tr><tr><td>Mondelez Global LLC</td><td>-3428.0</td><td>true</td><td>18801.0</td><td>false</td><td>12.898618</td><td>883820.75</td></tr><tr><td>Tesla, Inc</td><td>93212.0</td><td>false</td><td>14370.0</td><td>false</td><td>11.015958</td><td>1084860.2</td></tr><tr><td>Mondelez Global LLC</td><td>-3343.0</td><td>true</td><td>600.0</td><td>true</td><td>9.878309</td><td>455238.34</td></tr><tr><td>Lear Corporation C/O Cass Information Systems</td><td>240.0</td><td>false</td><td>0.0</td><td>true</td><td>13.529027</td><td>1900265.1</td></tr><tr><td>Kraft Heinz Foods Company</td><td>-3272.0</td><td>true</td><td>7532.0</td><td>false</td><td>31.489662</td><td>2346952.0</td></tr><tr><td>DEERE & COMPANY</td><td>-3272.0</td><td>true</td><td>7532.0</td><td>false</td><td>31.489662</td><td>2346952.0</td></tr><tr><td>Tesla, Inc</td><td>-23090.0</td><td>true</td><td>10801.0</td><td>false</td><td>23.887686</td><td>2986819.0</td></tr><tr><td>Mondelez Global LLC</td><td>-12887.0</td><td>true</td><td>11802.0</td><td>false</td><td>30.601286</td><td>2098307.2</td></tr><tr><td>Mondelez Mexico, S. de R.L. de C.V.</td><td>-7523.0</td><td>true</td><td>25194.0</td><td>false</td><td>24.143805</td><td>2659669.8</td></tr><tr><td>Mondelez Global LLC</td><td>-7523.0</td><td>true</td><td>25194.0</td><td>false</td><td>24.143805</td><td>2659669.8</td></tr><tr><td>Lear Corporation C/O Cass Information Systems</td><td>4500.0</td><td>false</td><td>6300.0</td><td>false</td><td>40.219543</td><td>2573527.0</td></tr><tr><td>Kraft Heinz Foods Company</td><td>-1889.0</td><td>true</td><td>120446.0</td><td>false</td><td>35.159184</td><td>1782304.1</td></tr><tr><td>DEERE & COMPANY</td><td>-1889.0</td><td>true</td><td>120446.0</td><td>false</td><td>35.159184</td><td>1782304.1</td></tr><tr><td>Tesla, Inc</td><td>-1625.0</td><td>true</td><td>10411.0</td><td>false</td><td>30.544117</td><td>3015323.8</td></tr><tr><td>Lear Corporation C/O Cass Information Systems</td><td>-11040.0</td><td>true</td><td>420.0</td><td>true</td><td>20.846231</td><td>2570198.0</td></tr><tr><td>DHL Supply Chain / Diageo</td><td>-494964.0</td><td>true</td><td>360.0</td><td>true</td><td>21.279352</td><td>1246010.5</td></tr><tr><td>DEERE & COMPANY</td><td>-326094.0</td><td>true</td><td>135354.0</td><td>false</td><td>44.095528</td><td>2283882.0</td></tr><tr><td>Mondelez Mexico, S. de R.L. de C.V.</td><td>-6610.0</td><td>true</td><td>6124.0</td><td>false</td><td>37.348507</td><td>1737544.2</td></tr><tr><td>Mondelez Global LLC</td><td>-6610.0</td><td>true</td><td>6124.0</td><td>false</td><td>37.348507</td><td>1737544.2</td></tr><tr><td>DEERE & COMPANY</td><td>95112.0</td><td>false</td><td>5892.0</td><td>false</td><td>33.210403</td><td>2008475.4</td></tr><tr><td>The Home Depot</td><td>-682737.0</td><td>true</td><td>6345.0</td><td>false</td><td>16.77322</td><td>1942188.6</td></tr><tr><td>TRANSPLACE TEXAS, LP</td><td>-4467.0</td><td>true</td><td>17487.0</td><td>false</td><td>8.790945</td><td>2104376.2</td></tr><tr><td>Tesla, Inc</td><td>28995.0</td><td>false</td><td>5113.0</td><td>false</td><td>18.708826</td><td>2986819.0</td></tr><tr><td>Lear Corporation C/O Cass Information Systems</td><td>-9575.0</td><td>true</td><td>381815.0</td><td>false</td><td>0.011976048</td><td>796687.44</td></tr><tr><td>DEERE & COMPANY</td><td>285021.0</td><td>false</td><td>4539.0</td><td>false</td><td>13.847926</td><td>1215771.2</td></tr><tr><td>Navistar, Inc.</td><td>18054.0</td><td>false</td><td>3838.0</td><td>false</td><td>24.599588</td><td>1797628.4</td></tr><tr><td>Mondelez Mexico, S. de R.L. de C.V.</td><td>-5340.0</td><td>true</td><td>4651.0</td><td>false</td><td>14.813214</td><td>1737544.2</td></tr><tr><td>Mondelez Global LLC</td><td>-5340.0</td><td>true</td><td>4651.0</td><td>false</td><td>14.813214</td><td>1737544.2</td></tr><tr><td>DHL Supply Chain / Sony</td><td>1.0673787E7</td><td>false</td><td>68.0</td><td>true</td><td>0.0</td><td>2069138.9</td></tr><tr><td>DHL Supply Chain / Sony</td><td>1.0673787E7</td><td>false</td><td>68.0</td><td>true</td><td>0.0</td><td>2069138.9</td></tr><tr><td>Lear Corporation C/O Cass Information Systems</td><td>183636.0</td><td>false</td><td>0.0</td><td>true</td><td>19.4103</td><td>1890327.6</td></tr><tr><td>Mondelez Mexico, S. de R.L. de C.V.</td><td>-12016.0</td><td>true</td><td>42029.0</td><td>false</td><td>22.779829</td><td>1737544.2</td></tr><tr><td>Mondelez Global LLC</td><td>-12016.0</td><td>true</td><td>42029.0</td><td>false</td><td>22.779829</td><td>1737544.2</td></tr><tr><td>Tesla, Inc</td><td>-22292.0</td><td>true</td><td>7473.0</td><td>false</td><td>34.82587</td><td>2607441.8</td></tr><tr><td>TRANSPLACE TEXAS, LP</td><td>-15033.0</td><td>true</td><td>10293.0</td><td>false</td><td>24.207762</td><td>3240230.8</td></tr><tr><td>Tesla, Inc</td><td>-37980.0</td><td>true</td><td>30479.0</td><td>false</td><td>15.066756</td><td>2406017.0</td></tr><tr><td>Navistar, Inc.</td><td>-84725.0</td><td>true</td><td>1737.0</td><td>true</td><td>31.169323</td><td>2431225.2</td></tr><tr><td>Mondelez Mexico, S. de R.L. de C.V.</td><td>-19145.0</td><td>true</td><td>15430.0</td><td>false</td><td>29.926147</td><td>2659669.8</td></tr><tr><td>Mondelez Global LLC</td><td>-19145.0</td><td>true</td><td>15430.0</td><td>false</td><td>29.926147</td><td>2659669.8</td></tr><tr><td>Tesla, Inc</td><td>-33063.0</td><td>true</td><td>3663.0</td><td>false</td><td>21.575594</td><td>2651569.2</td></tr><tr><td>Mondelez Global LLC</td><td>-13161.0</td><td>true</td><td>19990.0</td><td>false</td><td>34.832462</td><td>2098307.2</td></tr><tr><td>Mondelez Mexico, S. de R.L. de C.V.</td><td>-4739.0</td><td>true</td><td>80362.0</td><td>false</td><td>10.827507</td><td>1737544.2</td></tr><tr><td>Mondelez Global LLC</td><td>-4739.0</td><td>true</td><td>80362.0</td><td>false</td><td>10.827507</td><td>1737544.2</td></tr><tr><td>Mondelez Global LLC</td><td>-1800.0</td><td>true</td><td>5580.0</td><td>false</td><td>20.631285</td><td>1897942.2</td></tr><tr><td>TRANSPLACE TEXAS, LP</td><td>-35562.0</td><td>true</td><td>38862.0</td><td>false</td><td>29.804672</td><td>2754771.2</td></tr><tr><td>Mondelez Mexico, S. de R.L. de C.V.</td><td>-3745.0</td><td>true</td><td>11517.0</td><td>false</td><td>24.306393</td><td>1737544.2</td></tr><tr><td>Mondelez Global LLC</td><td>-3745.0</td><td>true</td><td>11517.0</td><td>false</td><td>24.306393</td><td>1737544.2</td></tr><tr><td>The Home Depot</td><td>-64681.0</td><td>true</td><td>4659.0</td><td>false</td><td>28.470356</td><td>1383505.0</td></tr><tr><td>Tesla, Inc</td><td>28260.0</td><td>false</td><td>4965.0</td><td>false</td><td>16.044445</td><td>1077756.4</td></tr><tr><td>DEERE & COMPANY</td><td>23040.0</td><td>false</td><td>6060.0</td><td>false</td><td>19.046358</td><td>1822936.4</td></tr><tr><td>Tesla, Inc</td><td>6829.0</td><td>false</td><td>8187.0</td><td>false</td><td>15.742495</td><td>3015323.8</td></tr><tr><td>Mondelez Mexico, S. de R.L. de C.V.</td><td>-47286.0</td><td>true</td><td>63666.0</td><td>false</td><td>19.054531</td><td>1592425.4</td></tr><tr><td>Mondelez Global LLC</td><td>-47286.0</td><td>true</td><td>63666.0</td><td>false</td><td>19.054531</td><td>1592425.4</td></tr><tr><td>The Home Depot</td><td>25307.0</td><td>false</td><td>10203.0</td><td>false</td><td>17.740158</td><td>1125531.4</td></tr><tr><td>TRANSPLACE TEXAS, LP</td><td>0.0</td><td>true</td><td>88920.0</td><td>false</td><td>18.172823</td><td>1363631.8</td></tr><tr><td>Kraft Heinz Foods Company</td><td>-1164.0</td><td>true</td><td>7714.0</td><td>false</td><td>15.9011345</td><td>1692256.9</td></tr><tr><td>DEERE & COMPANY</td><td>-1164.0</td><td>true</td><td>7714.0</td><td>false</td><td>15.9011345</td><td>1692256.9</td></tr><tr><td>Tesla, Inc</td><td>-18300.0</td><td>true</td><td>6180.0</td><td>false</td><td>16.292553</td><td>2570878.5</td></tr><tr><td>Tesla, Inc</td><td>-34372.0</td><td>true</td><td>29212.0</td><td>false</td><td>15.700663</td><td>3015323.8</td></tr><tr><td>Mondelez Mexico, S. de R.L. de C.V.</td><td>-3500.0</td><td>true</td><td>5243.0</td><td>false</td><td>20.39346</td><td>1737544.2</td></tr><tr><td>Mondelez Global LLC</td><td>-3500.0</td><td>true</td><td>5243.0</td><td>false</td><td>20.39346</td><td>1737544.2</td></tr><tr><td>Mondelez Global LLC</td><td>-31297.0</td><td>true</td><td>37977.0</td><td>false</td><td>20.2</td><td>2036991.2</td></tr><tr><td>DEERE & COMPANY</td><td>-69420.0</td><td>true</td><td>138060.0</td><td>false</td><td>23.313007</td><td>1927772.9</td></tr><tr><td>DEERE & COMPANY</td><td>391101.0</td><td>false</td><td>47562.0</td><td>false</td><td>18.53713</td><td>1601571.8</td></tr><tr><td>Kraft Heinz Foods Company</td><td>-277267.0</td><td>true</td><td>37374.0</td><td>false</td><td>18.627815</td><td>1820880.2</td></tr><tr><td>DEERE & COMPANY</td><td>-277267.0</td><td>true</td><td>37374.0</td><td>false</td><td>18.627815</td><td>1820880.2</td></tr><tr><td>DEERE & COMPANY</td><td>-17086.0</td><td>true</td><td>37846.0</td><td>false</td><td>21.080585</td><td>1820880.2</td></tr><tr><td>Kraft Heinz Foods Company</td><td>1002060.0</td><td>false</td><td>42840.0</td><td>false</td><td>18.169931</td><td>2389433.8</td></tr><tr><td>DEERE & COMPANY</td><td>1002060.0</td><td>false</td><td>42840.0</td><td>false</td><td>18.169931</td><td>2389433.8</td></tr><tr><td>Mondelez Mexico, S. de R.L. de C.V.</td><td>-26346.0</td><td>true</td><td>44046.0</td><td>false</td><td>5.1683598</td><td>2036991.2</td></tr><tr><td>Mondelez Global LLC</td><td>-26346.0</td><td>true</td><td>44046.0</td><td>false</td><td>5.1683598</td><td>2036991.2</td></tr><tr><td>DEERE & COMPANY</td><td>-32040.0</td><td>true</td><td>38379.0</td><td>false</td><td>14.337185</td><td>1692256.9</td></tr><tr><td>DEERE & COMPANY</td><td>362760.0</td><td>false</td><td>578.0</td><td>true</td><td>15.062927</td><td>1820880.2</td></tr><tr><td>TRANSPLACE TEXAS, LP</td><td>-3802.0</td><td>true</td><td>17655.0</td><td>false</td><td>16.807245</td><td>2104376.2</td></tr><tr><td>Lear Corporation C/O Cass Information Systems</td><td>513060.0</td><td>false</td><td>10680.0</td><td>false</td><td>14.108323</td><td>1900265.1</td></tr><tr><td>Tesla, Inc</td><td>-164797.0</td><td>true</td><td>39542.0</td><td>false</td><td>26.38193</td><td>296044.03</td></tr><tr><td>Lear Corporation C/O Cass Information Systems</td><td>0.0</td><td>true</td><td>23400.0</td><td>false</td><td>21.640854</td><td>1890327.6</td></tr><tr><td>Lear Corporation C/O Cass Information Systems</td><td>-6627.0</td><td>true</td><td>9382.0</td><td>false</td><td>14.111111</td><td>2458360.2</td></tr><tr><td>Mondelez Mexico, S. de R.L. de C.V.</td><td>5930.0</td><td>false</td><td>10210.0</td><td>false</td><td>3.938871</td><td>1888156.8</td></tr><tr><td>Mondelez Global LLC</td><td>5930.0</td><td>false</td><td>10210.0</td><td>false</td><td>3.938871</td><td>1888156.8</td></tr><tr><td>Lear Corporation C/O Cass Information Systems</td><td>-59160.0</td><td>true</td><td>57979.0</td><td>false</td><td>17.801363</td><td>1890327.6</td></tr><tr><td>Lear Corporation C/O Cass Information Systems</td><td>8100.0</td><td>false</td><td>1020.0</td><td>true</td><td>18.975883</td><td>1914107.0</td></tr><tr><td>DEERE & COMPANY</td><td>-265910.0</td><td>true</td><td>13970.0</td><td>false</td><td>30.679672</td><td>1742527.0</td></tr><tr><td>Lear Corporation C/O Cass Information Systems</td><td>0.0</td><td>true</td><td>6600.0</td><td>false</td><td>14.910448</td><td>1890327.6</td></tr><tr><td>Lear Corporation C/O Cass Information Systems</td><td>189.0</td><td>false</td><td>6411.0</td><td>false</td><td>2.0279553</td><td>2231192.8</td></tr><tr><td>DEERE & COMPANY</td><td>-2150.0</td><td>true</td><td>4096.0</td><td>false</td><td>13.580516</td><td>2008475.4</td></tr><tr><td>Lear Corporation C/O Cass Information Systems</td><td>-104326.0</td><td>true</td><td>16889.0</td><td>false</td><td>15.111332</td><td>1890327.6</td></tr><tr><td>Mondelez Mexico, S. de R.L. de C.V.</td><td>-425.0</td><td>true</td><td>7429.0</td><td>false</td><td>15.967116</td><td>1543702.8</td></tr><tr><td>Mondelez Global LLC</td><td>-425.0</td><td>true</td><td>7429.0</td><td>false</td><td>15.967116</td><td>1543702.8</td></tr><tr><td>Mondelez Global LLC</td><td>-2148.0</td><td>true</td><td>341163.0</td><td>false</td><td>16.817013</td><td>1737544.2</td></tr><tr><td>Mondelez Mexico, S. de R.L. de C.V.</td><td>-1125.0</td><td>true</td><td>45577.0</td><td>false</td><td>16.620358</td><td>1592425.4</td></tr><tr><td>Mondelez Global LLC</td><td>-1125.0</td><td>true</td><td>45577.0</td><td>false</td><td>16.620358</td><td>1592425.4</td></tr><tr><td>Mondelez Mexico, S. de R.L. de C.V.</td><td>2715.0</td><td>false</td><td>6528.0</td><td>false</td><td>13.214571</td><td>1425121.4</td></tr><tr><td>Mondelez Global LLC</td><td>2715.0</td><td>false</td><td>6528.0</td><td>false</td><td>13.214571</td><td>1425121.4</td></tr><tr><td>Mondelez Mexico, S. de R.L. de C.V.</td><td>5289.0</td><td>false</td><td>3821.0</td><td>false</td><td>17.397827</td><td>1447160.5</td></tr><tr><td>Mondelez Global LLC</td><td>5289.0</td><td>false</td><td>3821.0</td><td>false</td><td>17.397827</td><td>1447160.5</td></tr><tr><td>Mondelez Mexico, S. de R.L. de C.V.</td><td>4123.0</td><td>false</td><td>9270.0</td><td>false</td><td>14.858923</td><td>1892819.6</td></tr><tr><td>Mondelez Global LLC</td><td>4123.0</td><td>false</td><td>9270.0</td><td>false</td><td>14.858923</td><td>1892819.6</td></tr><tr><td>Tesla, Inc</td><td>115680.0</td><td>false</td><td>19380.0</td><td>false</td><td>19.293978</td><td>2406017.0</td></tr><tr><td>Tesla, Inc</td><td>-28920.0</td><td>true</td><td>188.0</td><td>true</td><td>20.946947</td><td>3015323.8</td></tr><tr><td>The Home Depot</td><td>182382.0</td><td>false</td><td>362.0</td><td>true</td><td>19.51784</td><td>1956611.9</td></tr><tr><td>Navistar, Inc.</td><td>-38760.0</td><td>true</td><td>2100.0</td><td>true</td><td>25.020409</td><td>1214999.5</td></tr><tr><td>Mondelez Mexico, S. de R.L. de C.V.</td><td>3420.0</td><td>false</td><td>9420.0</td><td>false</td><td>15.702619</td><td>1775050.9</td></tr><tr><td>Mondelez Global LLC</td><td>3420.0</td><td>false</td><td>9420.0</td><td>false</td><td>15.702619</td><td>1775050.9</td></tr><tr><td>Lear Corporation C/O Cass Information Systems</td><td>-15060.0</td><td>true</td><td>4020.0</td><td>false</td><td>5.763052</td><td>796687.44</td></tr></tbody></table></div>"
      ]
     },
     "metadata": {
      "application/vnd.databricks.v1+output": {
       "addedWidgets": {},
       "aggData": [],
       "aggError": "",
       "aggOverflow": false,
       "aggSchema": [],
       "aggSeriesLimitReached": false,
       "aggType": "",
       "arguments": {},
       "columnCustomDisplayInfos": {},
       "data": [
        [
         "Mondelez Global LLC",
         -5512,
         true,
         12472,
         false,
         12.431646,
         455238.34
        ],
        [
         "Mondelez Global LLC",
         -3428,
         true,
         18801,
         false,
         12.898618,
         883820.75
        ],
        [
         "Tesla, Inc",
         93212,
         false,
         14370,
         false,
         11.015958,
         1084860.2
        ],
        [
         "Mondelez Global LLC",
         -3343,
         true,
         600,
         true,
         9.878309,
         455238.34
        ],
        [
         "Lear Corporation C/O Cass Information Systems",
         240,
         false,
         0,
         true,
         13.529027,
         1900265.1
        ],
        [
         "Kraft Heinz Foods Company",
         -3272,
         true,
         7532,
         false,
         31.489662,
         2346952
        ],
        [
         "DEERE & COMPANY",
         -3272,
         true,
         7532,
         false,
         31.489662,
         2346952
        ],
        [
         "Tesla, Inc",
         -23090,
         true,
         10801,
         false,
         23.887686,
         2986819
        ],
        [
         "Mondelez Global LLC",
         -12887,
         true,
         11802,
         false,
         30.601286,
         2098307.2
        ],
        [
         "Mondelez Mexico, S. de R.L. de C.V.",
         -7523,
         true,
         25194,
         false,
         24.143805,
         2659669.8
        ],
        [
         "Mondelez Global LLC",
         -7523,
         true,
         25194,
         false,
         24.143805,
         2659669.8
        ],
        [
         "Lear Corporation C/O Cass Information Systems",
         4500,
         false,
         6300,
         false,
         40.219543,
         2573527
        ],
        [
         "Kraft Heinz Foods Company",
         -1889,
         true,
         120446,
         false,
         35.159184,
         1782304.1
        ],
        [
         "DEERE & COMPANY",
         -1889,
         true,
         120446,
         false,
         35.159184,
         1782304.1
        ],
        [
         "Tesla, Inc",
         -1625,
         true,
         10411,
         false,
         30.544117,
         3015323.8
        ],
        [
         "Lear Corporation C/O Cass Information Systems",
         -11040,
         true,
         420,
         true,
         20.846231,
         2570198
        ],
        [
         "DHL Supply Chain / Diageo",
         -494964,
         true,
         360,
         true,
         21.279352,
         1246010.5
        ],
        [
         "DEERE & COMPANY",
         -326094,
         true,
         135354,
         false,
         44.095528,
         2283882
        ],
        [
         "Mondelez Mexico, S. de R.L. de C.V.",
         -6610,
         true,
         6124,
         false,
         37.348507,
         1737544.2
        ],
        [
         "Mondelez Global LLC",
         -6610,
         true,
         6124,
         false,
         37.348507,
         1737544.2
        ],
        [
         "DEERE & COMPANY",
         95112,
         false,
         5892,
         false,
         33.210403,
         2008475.4
        ],
        [
         "The Home Depot",
         -682737,
         true,
         6345,
         false,
         16.77322,
         1942188.6
        ],
        [
         "TRANSPLACE TEXAS, LP",
         -4467,
         true,
         17487,
         false,
         8.790945,
         2104376.2
        ],
        [
         "Tesla, Inc",
         28995,
         false,
         5113,
         false,
         18.708826,
         2986819
        ],
        [
         "Lear Corporation C/O Cass Information Systems",
         -9575,
         true,
         381815,
         false,
         0.011976048,
         796687.44
        ],
        [
         "DEERE & COMPANY",
         285021,
         false,
         4539,
         false,
         13.847926,
         1215771.2
        ],
        [
         "Navistar, Inc.",
         18054,
         false,
         3838,
         false,
         24.599588,
         1797628.4
        ],
        [
         "Mondelez Mexico, S. de R.L. de C.V.",
         -5340,
         true,
         4651,
         false,
         14.813214,
         1737544.2
        ],
        [
         "Mondelez Global LLC",
         -5340,
         true,
         4651,
         false,
         14.813214,
         1737544.2
        ],
        [
         "DHL Supply Chain / Sony",
         10673787,
         false,
         68,
         true,
         0,
         2069138.9
        ],
        [
         "DHL Supply Chain / Sony",
         10673787,
         false,
         68,
         true,
         0,
         2069138.9
        ],
        [
         "Lear Corporation C/O Cass Information Systems",
         183636,
         false,
         0,
         true,
         19.4103,
         1890327.6
        ],
        [
         "Mondelez Mexico, S. de R.L. de C.V.",
         -12016,
         true,
         42029,
         false,
         22.779829,
         1737544.2
        ],
        [
         "Mondelez Global LLC",
         -12016,
         true,
         42029,
         false,
         22.779829,
         1737544.2
        ],
        [
         "Tesla, Inc",
         -22292,
         true,
         7473,
         false,
         34.82587,
         2607441.8
        ],
        [
         "TRANSPLACE TEXAS, LP",
         -15033,
         true,
         10293,
         false,
         24.207762,
         3240230.8
        ],
        [
         "Tesla, Inc",
         -37980,
         true,
         30479,
         false,
         15.066756,
         2406017
        ],
        [
         "Navistar, Inc.",
         -84725,
         true,
         1737,
         true,
         31.169323,
         2431225.2
        ],
        [
         "Mondelez Mexico, S. de R.L. de C.V.",
         -19145,
         true,
         15430,
         false,
         29.926147,
         2659669.8
        ],
        [
         "Mondelez Global LLC",
         -19145,
         true,
         15430,
         false,
         29.926147,
         2659669.8
        ],
        [
         "Tesla, Inc",
         -33063,
         true,
         3663,
         false,
         21.575594,
         2651569.2
        ],
        [
         "Mondelez Global LLC",
         -13161,
         true,
         19990,
         false,
         34.832462,
         2098307.2
        ],
        [
         "Mondelez Mexico, S. de R.L. de C.V.",
         -4739,
         true,
         80362,
         false,
         10.827507,
         1737544.2
        ],
        [
         "Mondelez Global LLC",
         -4739,
         true,
         80362,
         false,
         10.827507,
         1737544.2
        ],
        [
         "Mondelez Global LLC",
         -1800,
         true,
         5580,
         false,
         20.631285,
         1897942.2
        ],
        [
         "TRANSPLACE TEXAS, LP",
         -35562,
         true,
         38862,
         false,
         29.804672,
         2754771.2
        ],
        [
         "Mondelez Mexico, S. de R.L. de C.V.",
         -3745,
         true,
         11517,
         false,
         24.306393,
         1737544.2
        ],
        [
         "Mondelez Global LLC",
         -3745,
         true,
         11517,
         false,
         24.306393,
         1737544.2
        ],
        [
         "The Home Depot",
         -64681,
         true,
         4659,
         false,
         28.470356,
         1383505
        ],
        [
         "Tesla, Inc",
         28260,
         false,
         4965,
         false,
         16.044445,
         1077756.4
        ],
        [
         "DEERE & COMPANY",
         23040,
         false,
         6060,
         false,
         19.046358,
         1822936.4
        ],
        [
         "Tesla, Inc",
         6829,
         false,
         8187,
         false,
         15.742495,
         3015323.8
        ],
        [
         "Mondelez Mexico, S. de R.L. de C.V.",
         -47286,
         true,
         63666,
         false,
         19.054531,
         1592425.4
        ],
        [
         "Mondelez Global LLC",
         -47286,
         true,
         63666,
         false,
         19.054531,
         1592425.4
        ],
        [
         "The Home Depot",
         25307,
         false,
         10203,
         false,
         17.740158,
         1125531.4
        ],
        [
         "TRANSPLACE TEXAS, LP",
         0,
         true,
         88920,
         false,
         18.172823,
         1363631.8
        ],
        [
         "Kraft Heinz Foods Company",
         -1164,
         true,
         7714,
         false,
         15.9011345,
         1692256.9
        ],
        [
         "DEERE & COMPANY",
         -1164,
         true,
         7714,
         false,
         15.9011345,
         1692256.9
        ],
        [
         "Tesla, Inc",
         -18300,
         true,
         6180,
         false,
         16.292553,
         2570878.5
        ],
        [
         "Tesla, Inc",
         -34372,
         true,
         29212,
         false,
         15.700663,
         3015323.8
        ],
        [
         "Mondelez Mexico, S. de R.L. de C.V.",
         -3500,
         true,
         5243,
         false,
         20.39346,
         1737544.2
        ],
        [
         "Mondelez Global LLC",
         -3500,
         true,
         5243,
         false,
         20.39346,
         1737544.2
        ],
        [
         "Mondelez Global LLC",
         -31297,
         true,
         37977,
         false,
         20.2,
         2036991.2
        ],
        [
         "DEERE & COMPANY",
         -69420,
         true,
         138060,
         false,
         23.313007,
         1927772.9
        ],
        [
         "DEERE & COMPANY",
         391101,
         false,
         47562,
         false,
         18.53713,
         1601571.8
        ],
        [
         "Kraft Heinz Foods Company",
         -277267,
         true,
         37374,
         false,
         18.627815,
         1820880.2
        ],
        [
         "DEERE & COMPANY",
         -277267,
         true,
         37374,
         false,
         18.627815,
         1820880.2
        ],
        [
         "DEERE & COMPANY",
         -17086,
         true,
         37846,
         false,
         21.080585,
         1820880.2
        ],
        [
         "Kraft Heinz Foods Company",
         1002060,
         false,
         42840,
         false,
         18.169931,
         2389433.8
        ],
        [
         "DEERE & COMPANY",
         1002060,
         false,
         42840,
         false,
         18.169931,
         2389433.8
        ],
        [
         "Mondelez Mexico, S. de R.L. de C.V.",
         -26346,
         true,
         44046,
         false,
         5.1683598,
         2036991.2
        ],
        [
         "Mondelez Global LLC",
         -26346,
         true,
         44046,
         false,
         5.1683598,
         2036991.2
        ],
        [
         "DEERE & COMPANY",
         -32040,
         true,
         38379,
         false,
         14.337185,
         1692256.9
        ],
        [
         "DEERE & COMPANY",
         362760,
         false,
         578,
         true,
         15.062927,
         1820880.2
        ],
        [
         "TRANSPLACE TEXAS, LP",
         -3802,
         true,
         17655,
         false,
         16.807245,
         2104376.2
        ],
        [
         "Lear Corporation C/O Cass Information Systems",
         513060,
         false,
         10680,
         false,
         14.108323,
         1900265.1
        ],
        [
         "Tesla, Inc",
         -164797,
         true,
         39542,
         false,
         26.38193,
         296044.03
        ],
        [
         "Lear Corporation C/O Cass Information Systems",
         0,
         true,
         23400,
         false,
         21.640854,
         1890327.6
        ],
        [
         "Lear Corporation C/O Cass Information Systems",
         -6627,
         true,
         9382,
         false,
         14.111111,
         2458360.2
        ],
        [
         "Mondelez Mexico, S. de R.L. de C.V.",
         5930,
         false,
         10210,
         false,
         3.938871,
         1888156.8
        ],
        [
         "Mondelez Global LLC",
         5930,
         false,
         10210,
         false,
         3.938871,
         1888156.8
        ],
        [
         "Lear Corporation C/O Cass Information Systems",
         -59160,
         true,
         57979,
         false,
         17.801363,
         1890327.6
        ],
        [
         "Lear Corporation C/O Cass Information Systems",
         8100,
         false,
         1020,
         true,
         18.975883,
         1914107
        ],
        [
         "DEERE & COMPANY",
         -265910,
         true,
         13970,
         false,
         30.679672,
         1742527
        ],
        [
         "Lear Corporation C/O Cass Information Systems",
         0,
         true,
         6600,
         false,
         14.910448,
         1890327.6
        ],
        [
         "Lear Corporation C/O Cass Information Systems",
         189,
         false,
         6411,
         false,
         2.0279553,
         2231192.8
        ],
        [
         "DEERE & COMPANY",
         -2150,
         true,
         4096,
         false,
         13.580516,
         2008475.4
        ],
        [
         "Lear Corporation C/O Cass Information Systems",
         -104326,
         true,
         16889,
         false,
         15.111332,
         1890327.6
        ],
        [
         "Mondelez Mexico, S. de R.L. de C.V.",
         -425,
         true,
         7429,
         false,
         15.967116,
         1543702.8
        ],
        [
         "Mondelez Global LLC",
         -425,
         true,
         7429,
         false,
         15.967116,
         1543702.8
        ],
        [
         "Mondelez Global LLC",
         -2148,
         true,
         341163,
         false,
         16.817013,
         1737544.2
        ],
        [
         "Mondelez Mexico, S. de R.L. de C.V.",
         -1125,
         true,
         45577,
         false,
         16.620358,
         1592425.4
        ],
        [
         "Mondelez Global LLC",
         -1125,
         true,
         45577,
         false,
         16.620358,
         1592425.4
        ],
        [
         "Mondelez Mexico, S. de R.L. de C.V.",
         2715,
         false,
         6528,
         false,
         13.214571,
         1425121.4
        ],
        [
         "Mondelez Global LLC",
         2715,
         false,
         6528,
         false,
         13.214571,
         1425121.4
        ],
        [
         "Mondelez Mexico, S. de R.L. de C.V.",
         5289,
         false,
         3821,
         false,
         17.397827,
         1447160.5
        ],
        [
         "Mondelez Global LLC",
         5289,
         false,
         3821,
         false,
         17.397827,
         1447160.5
        ],
        [
         "Mondelez Mexico, S. de R.L. de C.V.",
         4123,
         false,
         9270,
         false,
         14.858923,
         1892819.6
        ],
        [
         "Mondelez Global LLC",
         4123,
         false,
         9270,
         false,
         14.858923,
         1892819.6
        ],
        [
         "Tesla, Inc",
         115680,
         false,
         19380,
         false,
         19.293978,
         2406017
        ],
        [
         "Tesla, Inc",
         -28920,
         true,
         188,
         true,
         20.946947,
         3015323.8
        ],
        [
         "The Home Depot",
         182382,
         false,
         362,
         true,
         19.51784,
         1956611.9
        ],
        [
         "Navistar, Inc.",
         -38760,
         true,
         2100,
         true,
         25.020409,
         1214999.5
        ],
        [
         "Mondelez Mexico, S. de R.L. de C.V.",
         3420,
         false,
         9420,
         false,
         15.702619,
         1775050.9
        ],
        [
         "Mondelez Global LLC",
         3420,
         false,
         9420,
         false,
         15.702619,
         1775050.9
        ],
        [
         "Lear Corporation C/O Cass Information Systems",
         -15060,
         true,
         4020,
         false,
         5.763052,
         796687.44
        ]
       ],
       "datasetInfos": [],
       "dbfsResultPath": null,
       "isJsonSchema": true,
       "metadata": {},
       "overflow": false,
       "plotOptions": {
        "customPlotOptions": {},
        "displayType": "table",
        "pivotAggregation": null,
        "pivotColumns": null,
        "xColumns": null,
        "yColumns": null
       },
       "removedWidgets": [],
       "schema": [
        {
         "metadata": "{}",
         "name": "Customer",
         "type": "\"string\""
        },
        {
         "metadata": "{}",
         "name": "arriveDifference",
         "type": "\"float\""
        },
        {
         "metadata": "{}",
         "name": "onTimeArrival",
         "type": "\"boolean\""
        },
        {
         "metadata": "{}",
         "name": "departureDifference",
         "type": "\"float\""
        },
        {
         "metadata": "{}",
         "name": "onTimeDeparture",
         "type": "\"boolean\""
        },
        {
         "metadata": "{}",
         "name": "avg_speed",
         "type": "\"float\""
        },
        {
         "metadata": "{}",
         "name": "distance",
         "type": "\"float\""
        }
       ],
       "type": "table"
      }
     },
     "output_type": "display_data"
    }
   ],
   "source": [
    "display(df)"
   ]
  },
  {
   "cell_type": "code",
   "execution_count": null,
   "metadata": {
    "application/vnd.databricks.v1+cell": {
     "cellMetadata": {
      "byteLimit": 2048000,
      "rowLimit": 10000
     },
     "inputWidgets": {},
     "nuid": "9f29725e-42a0-47d8-a6b4-8bd2131154ae",
     "showTitle": false,
     "title": ""
    }
   },
   "outputs": [],
   "source": [
    "df[['onTimeArrival', 'onTimeDeparture']] = df[['onTimeArrival', 'onTimeDeparture']].astype(int)"
   ]
  },
  {
   "cell_type": "code",
   "execution_count": null,
   "metadata": {
    "application/vnd.databricks.v1+cell": {
     "cellMetadata": {
      "byteLimit": 2048000,
      "rowLimit": 10000
     },
     "inputWidgets": {},
     "nuid": "98bbf43b-6862-4f98-b178-bff504ece91d",
     "showTitle": false,
     "title": ""
    }
   },
   "outputs": [
    {
     "data": {
      "text/html": [
       "<style scoped>\n",
       "  .table-result-container {\n",
       "    max-height: 300px;\n",
       "    overflow: auto;\n",
       "  }\n",
       "  table, th, td {\n",
       "    border: 1px solid black;\n",
       "    border-collapse: collapse;\n",
       "  }\n",
       "  th, td {\n",
       "    padding: 5px;\n",
       "  }\n",
       "  th {\n",
       "    text-align: left;\n",
       "  }\n",
       "</style><div class='table-result-container'><table class='table-result'><thead style='background-color: white'><tr><th>Customer</th><th>arriveDifference</th><th>onTimeArrival</th><th>departureDifference</th><th>onTimeDeparture</th><th>avg_speed</th><th>distance</th></tr></thead><tbody><tr><td>Mondelez Global LLC</td><td>-5512.0</td><td>1</td><td>12472.0</td><td>0</td><td>12.431646</td><td>455238.34</td></tr><tr><td>Mondelez Global LLC</td><td>-3428.0</td><td>1</td><td>18801.0</td><td>0</td><td>12.898618</td><td>883820.75</td></tr><tr><td>Tesla, Inc</td><td>93212.0</td><td>0</td><td>14370.0</td><td>0</td><td>11.015958</td><td>1084860.2</td></tr><tr><td>Mondelez Global LLC</td><td>-3343.0</td><td>1</td><td>600.0</td><td>1</td><td>9.878309</td><td>455238.34</td></tr><tr><td>Lear Corporation C/O Cass Information Systems</td><td>240.0</td><td>0</td><td>0.0</td><td>1</td><td>13.529027</td><td>1900265.1</td></tr><tr><td>Kraft Heinz Foods Company</td><td>-3272.0</td><td>1</td><td>7532.0</td><td>0</td><td>31.489662</td><td>2346952.0</td></tr><tr><td>DEERE & COMPANY</td><td>-3272.0</td><td>1</td><td>7532.0</td><td>0</td><td>31.489662</td><td>2346952.0</td></tr><tr><td>Tesla, Inc</td><td>-23090.0</td><td>1</td><td>10801.0</td><td>0</td><td>23.887686</td><td>2986819.0</td></tr><tr><td>Mondelez Global LLC</td><td>-12887.0</td><td>1</td><td>11802.0</td><td>0</td><td>30.601286</td><td>2098307.2</td></tr><tr><td>Mondelez Mexico, S. de R.L. de C.V.</td><td>-7523.0</td><td>1</td><td>25194.0</td><td>0</td><td>24.143805</td><td>2659669.8</td></tr><tr><td>Mondelez Global LLC</td><td>-7523.0</td><td>1</td><td>25194.0</td><td>0</td><td>24.143805</td><td>2659669.8</td></tr><tr><td>Lear Corporation C/O Cass Information Systems</td><td>4500.0</td><td>0</td><td>6300.0</td><td>0</td><td>40.219543</td><td>2573527.0</td></tr><tr><td>Kraft Heinz Foods Company</td><td>-1889.0</td><td>1</td><td>120446.0</td><td>0</td><td>35.159184</td><td>1782304.1</td></tr><tr><td>DEERE & COMPANY</td><td>-1889.0</td><td>1</td><td>120446.0</td><td>0</td><td>35.159184</td><td>1782304.1</td></tr><tr><td>Tesla, Inc</td><td>-1625.0</td><td>1</td><td>10411.0</td><td>0</td><td>30.544117</td><td>3015323.8</td></tr><tr><td>Lear Corporation C/O Cass Information Systems</td><td>-11040.0</td><td>1</td><td>420.0</td><td>1</td><td>20.846231</td><td>2570198.0</td></tr><tr><td>DHL Supply Chain / Diageo</td><td>-494964.0</td><td>1</td><td>360.0</td><td>1</td><td>21.279352</td><td>1246010.5</td></tr><tr><td>DEERE & COMPANY</td><td>-326094.0</td><td>1</td><td>135354.0</td><td>0</td><td>44.095528</td><td>2283882.0</td></tr><tr><td>Mondelez Mexico, S. de R.L. de C.V.</td><td>-6610.0</td><td>1</td><td>6124.0</td><td>0</td><td>37.348507</td><td>1737544.2</td></tr><tr><td>Mondelez Global LLC</td><td>-6610.0</td><td>1</td><td>6124.0</td><td>0</td><td>37.348507</td><td>1737544.2</td></tr><tr><td>DEERE & COMPANY</td><td>95112.0</td><td>0</td><td>5892.0</td><td>0</td><td>33.210403</td><td>2008475.4</td></tr><tr><td>The Home Depot</td><td>-682737.0</td><td>1</td><td>6345.0</td><td>0</td><td>16.77322</td><td>1942188.6</td></tr><tr><td>TRANSPLACE TEXAS, LP</td><td>-4467.0</td><td>1</td><td>17487.0</td><td>0</td><td>8.790945</td><td>2104376.2</td></tr><tr><td>Tesla, Inc</td><td>28995.0</td><td>0</td><td>5113.0</td><td>0</td><td>18.708826</td><td>2986819.0</td></tr><tr><td>Lear Corporation C/O Cass Information Systems</td><td>-9575.0</td><td>1</td><td>381815.0</td><td>0</td><td>0.011976048</td><td>796687.44</td></tr><tr><td>DEERE & COMPANY</td><td>285021.0</td><td>0</td><td>4539.0</td><td>0</td><td>13.847926</td><td>1215771.2</td></tr><tr><td>Navistar, Inc.</td><td>18054.0</td><td>0</td><td>3838.0</td><td>0</td><td>24.599588</td><td>1797628.4</td></tr><tr><td>Mondelez Mexico, S. de R.L. de C.V.</td><td>-5340.0</td><td>1</td><td>4651.0</td><td>0</td><td>14.813214</td><td>1737544.2</td></tr><tr><td>Mondelez Global LLC</td><td>-5340.0</td><td>1</td><td>4651.0</td><td>0</td><td>14.813214</td><td>1737544.2</td></tr><tr><td>DHL Supply Chain / Sony</td><td>1.0673787E7</td><td>0</td><td>68.0</td><td>1</td><td>0.0</td><td>2069138.9</td></tr><tr><td>DHL Supply Chain / Sony</td><td>1.0673787E7</td><td>0</td><td>68.0</td><td>1</td><td>0.0</td><td>2069138.9</td></tr><tr><td>Lear Corporation C/O Cass Information Systems</td><td>183636.0</td><td>0</td><td>0.0</td><td>1</td><td>19.4103</td><td>1890327.6</td></tr><tr><td>Mondelez Mexico, S. de R.L. de C.V.</td><td>-12016.0</td><td>1</td><td>42029.0</td><td>0</td><td>22.779829</td><td>1737544.2</td></tr><tr><td>Mondelez Global LLC</td><td>-12016.0</td><td>1</td><td>42029.0</td><td>0</td><td>22.779829</td><td>1737544.2</td></tr><tr><td>Tesla, Inc</td><td>-22292.0</td><td>1</td><td>7473.0</td><td>0</td><td>34.82587</td><td>2607441.8</td></tr><tr><td>TRANSPLACE TEXAS, LP</td><td>-15033.0</td><td>1</td><td>10293.0</td><td>0</td><td>24.207762</td><td>3240230.8</td></tr><tr><td>Tesla, Inc</td><td>-37980.0</td><td>1</td><td>30479.0</td><td>0</td><td>15.066756</td><td>2406017.0</td></tr><tr><td>Navistar, Inc.</td><td>-84725.0</td><td>1</td><td>1737.0</td><td>1</td><td>31.169323</td><td>2431225.2</td></tr><tr><td>Mondelez Mexico, S. de R.L. de C.V.</td><td>-19145.0</td><td>1</td><td>15430.0</td><td>0</td><td>29.926147</td><td>2659669.8</td></tr><tr><td>Mondelez Global LLC</td><td>-19145.0</td><td>1</td><td>15430.0</td><td>0</td><td>29.926147</td><td>2659669.8</td></tr><tr><td>Tesla, Inc</td><td>-33063.0</td><td>1</td><td>3663.0</td><td>0</td><td>21.575594</td><td>2651569.2</td></tr><tr><td>Mondelez Global LLC</td><td>-13161.0</td><td>1</td><td>19990.0</td><td>0</td><td>34.832462</td><td>2098307.2</td></tr><tr><td>Mondelez Mexico, S. de R.L. de C.V.</td><td>-4739.0</td><td>1</td><td>80362.0</td><td>0</td><td>10.827507</td><td>1737544.2</td></tr><tr><td>Mondelez Global LLC</td><td>-4739.0</td><td>1</td><td>80362.0</td><td>0</td><td>10.827507</td><td>1737544.2</td></tr><tr><td>Mondelez Global LLC</td><td>-1800.0</td><td>1</td><td>5580.0</td><td>0</td><td>20.631285</td><td>1897942.2</td></tr><tr><td>TRANSPLACE TEXAS, LP</td><td>-35562.0</td><td>1</td><td>38862.0</td><td>0</td><td>29.804672</td><td>2754771.2</td></tr><tr><td>Mondelez Mexico, S. de R.L. de C.V.</td><td>-3745.0</td><td>1</td><td>11517.0</td><td>0</td><td>24.306393</td><td>1737544.2</td></tr><tr><td>Mondelez Global LLC</td><td>-3745.0</td><td>1</td><td>11517.0</td><td>0</td><td>24.306393</td><td>1737544.2</td></tr><tr><td>The Home Depot</td><td>-64681.0</td><td>1</td><td>4659.0</td><td>0</td><td>28.470356</td><td>1383505.0</td></tr><tr><td>Tesla, Inc</td><td>28260.0</td><td>0</td><td>4965.0</td><td>0</td><td>16.044445</td><td>1077756.4</td></tr><tr><td>DEERE & COMPANY</td><td>23040.0</td><td>0</td><td>6060.0</td><td>0</td><td>19.046358</td><td>1822936.4</td></tr><tr><td>Tesla, Inc</td><td>6829.0</td><td>0</td><td>8187.0</td><td>0</td><td>15.742495</td><td>3015323.8</td></tr><tr><td>Mondelez Mexico, S. de R.L. de C.V.</td><td>-47286.0</td><td>1</td><td>63666.0</td><td>0</td><td>19.054531</td><td>1592425.4</td></tr><tr><td>Mondelez Global LLC</td><td>-47286.0</td><td>1</td><td>63666.0</td><td>0</td><td>19.054531</td><td>1592425.4</td></tr><tr><td>The Home Depot</td><td>25307.0</td><td>0</td><td>10203.0</td><td>0</td><td>17.740158</td><td>1125531.4</td></tr><tr><td>TRANSPLACE TEXAS, LP</td><td>0.0</td><td>1</td><td>88920.0</td><td>0</td><td>18.172823</td><td>1363631.8</td></tr><tr><td>Kraft Heinz Foods Company</td><td>-1164.0</td><td>1</td><td>7714.0</td><td>0</td><td>15.9011345</td><td>1692256.9</td></tr><tr><td>DEERE & COMPANY</td><td>-1164.0</td><td>1</td><td>7714.0</td><td>0</td><td>15.9011345</td><td>1692256.9</td></tr><tr><td>Tesla, Inc</td><td>-18300.0</td><td>1</td><td>6180.0</td><td>0</td><td>16.292553</td><td>2570878.5</td></tr><tr><td>Tesla, Inc</td><td>-34372.0</td><td>1</td><td>29212.0</td><td>0</td><td>15.700663</td><td>3015323.8</td></tr><tr><td>Mondelez Mexico, S. de R.L. de C.V.</td><td>-3500.0</td><td>1</td><td>5243.0</td><td>0</td><td>20.39346</td><td>1737544.2</td></tr><tr><td>Mondelez Global LLC</td><td>-3500.0</td><td>1</td><td>5243.0</td><td>0</td><td>20.39346</td><td>1737544.2</td></tr><tr><td>Mondelez Global LLC</td><td>-31297.0</td><td>1</td><td>37977.0</td><td>0</td><td>20.2</td><td>2036991.2</td></tr><tr><td>DEERE & COMPANY</td><td>-69420.0</td><td>1</td><td>138060.0</td><td>0</td><td>23.313007</td><td>1927772.9</td></tr><tr><td>DEERE & COMPANY</td><td>391101.0</td><td>0</td><td>47562.0</td><td>0</td><td>18.53713</td><td>1601571.8</td></tr><tr><td>Kraft Heinz Foods Company</td><td>-277267.0</td><td>1</td><td>37374.0</td><td>0</td><td>18.627815</td><td>1820880.2</td></tr><tr><td>DEERE & COMPANY</td><td>-277267.0</td><td>1</td><td>37374.0</td><td>0</td><td>18.627815</td><td>1820880.2</td></tr><tr><td>DEERE & COMPANY</td><td>-17086.0</td><td>1</td><td>37846.0</td><td>0</td><td>21.080585</td><td>1820880.2</td></tr><tr><td>Kraft Heinz Foods Company</td><td>1002060.0</td><td>0</td><td>42840.0</td><td>0</td><td>18.169931</td><td>2389433.8</td></tr><tr><td>DEERE & COMPANY</td><td>1002060.0</td><td>0</td><td>42840.0</td><td>0</td><td>18.169931</td><td>2389433.8</td></tr><tr><td>Mondelez Mexico, S. de R.L. de C.V.</td><td>-26346.0</td><td>1</td><td>44046.0</td><td>0</td><td>5.1683598</td><td>2036991.2</td></tr><tr><td>Mondelez Global LLC</td><td>-26346.0</td><td>1</td><td>44046.0</td><td>0</td><td>5.1683598</td><td>2036991.2</td></tr><tr><td>DEERE & COMPANY</td><td>-32040.0</td><td>1</td><td>38379.0</td><td>0</td><td>14.337185</td><td>1692256.9</td></tr><tr><td>DEERE & COMPANY</td><td>362760.0</td><td>0</td><td>578.0</td><td>1</td><td>15.062927</td><td>1820880.2</td></tr><tr><td>TRANSPLACE TEXAS, LP</td><td>-3802.0</td><td>1</td><td>17655.0</td><td>0</td><td>16.807245</td><td>2104376.2</td></tr><tr><td>Lear Corporation C/O Cass Information Systems</td><td>513060.0</td><td>0</td><td>10680.0</td><td>0</td><td>14.108323</td><td>1900265.1</td></tr><tr><td>Tesla, Inc</td><td>-164797.0</td><td>1</td><td>39542.0</td><td>0</td><td>26.38193</td><td>296044.03</td></tr><tr><td>Lear Corporation C/O Cass Information Systems</td><td>0.0</td><td>1</td><td>23400.0</td><td>0</td><td>21.640854</td><td>1890327.6</td></tr><tr><td>Lear Corporation C/O Cass Information Systems</td><td>-6627.0</td><td>1</td><td>9382.0</td><td>0</td><td>14.111111</td><td>2458360.2</td></tr><tr><td>Mondelez Mexico, S. de R.L. de C.V.</td><td>5930.0</td><td>0</td><td>10210.0</td><td>0</td><td>3.938871</td><td>1888156.8</td></tr><tr><td>Mondelez Global LLC</td><td>5930.0</td><td>0</td><td>10210.0</td><td>0</td><td>3.938871</td><td>1888156.8</td></tr><tr><td>Lear Corporation C/O Cass Information Systems</td><td>-59160.0</td><td>1</td><td>57979.0</td><td>0</td><td>17.801363</td><td>1890327.6</td></tr><tr><td>Lear Corporation C/O Cass Information Systems</td><td>8100.0</td><td>0</td><td>1020.0</td><td>1</td><td>18.975883</td><td>1914107.0</td></tr><tr><td>DEERE & COMPANY</td><td>-265910.0</td><td>1</td><td>13970.0</td><td>0</td><td>30.679672</td><td>1742527.0</td></tr><tr><td>Lear Corporation C/O Cass Information Systems</td><td>0.0</td><td>1</td><td>6600.0</td><td>0</td><td>14.910448</td><td>1890327.6</td></tr><tr><td>Lear Corporation C/O Cass Information Systems</td><td>189.0</td><td>0</td><td>6411.0</td><td>0</td><td>2.0279553</td><td>2231192.8</td></tr><tr><td>DEERE & COMPANY</td><td>-2150.0</td><td>1</td><td>4096.0</td><td>0</td><td>13.580516</td><td>2008475.4</td></tr><tr><td>Lear Corporation C/O Cass Information Systems</td><td>-104326.0</td><td>1</td><td>16889.0</td><td>0</td><td>15.111332</td><td>1890327.6</td></tr><tr><td>Mondelez Mexico, S. de R.L. de C.V.</td><td>-425.0</td><td>1</td><td>7429.0</td><td>0</td><td>15.967116</td><td>1543702.8</td></tr><tr><td>Mondelez Global LLC</td><td>-425.0</td><td>1</td><td>7429.0</td><td>0</td><td>15.967116</td><td>1543702.8</td></tr><tr><td>Mondelez Global LLC</td><td>-2148.0</td><td>1</td><td>341163.0</td><td>0</td><td>16.817013</td><td>1737544.2</td></tr><tr><td>Mondelez Mexico, S. de R.L. de C.V.</td><td>-1125.0</td><td>1</td><td>45577.0</td><td>0</td><td>16.620358</td><td>1592425.4</td></tr><tr><td>Mondelez Global LLC</td><td>-1125.0</td><td>1</td><td>45577.0</td><td>0</td><td>16.620358</td><td>1592425.4</td></tr><tr><td>Mondelez Mexico, S. de R.L. de C.V.</td><td>2715.0</td><td>0</td><td>6528.0</td><td>0</td><td>13.214571</td><td>1425121.4</td></tr><tr><td>Mondelez Global LLC</td><td>2715.0</td><td>0</td><td>6528.0</td><td>0</td><td>13.214571</td><td>1425121.4</td></tr><tr><td>Mondelez Mexico, S. de R.L. de C.V.</td><td>5289.0</td><td>0</td><td>3821.0</td><td>0</td><td>17.397827</td><td>1447160.5</td></tr><tr><td>Mondelez Global LLC</td><td>5289.0</td><td>0</td><td>3821.0</td><td>0</td><td>17.397827</td><td>1447160.5</td></tr><tr><td>Mondelez Mexico, S. de R.L. de C.V.</td><td>4123.0</td><td>0</td><td>9270.0</td><td>0</td><td>14.858923</td><td>1892819.6</td></tr><tr><td>Mondelez Global LLC</td><td>4123.0</td><td>0</td><td>9270.0</td><td>0</td><td>14.858923</td><td>1892819.6</td></tr><tr><td>Tesla, Inc</td><td>115680.0</td><td>0</td><td>19380.0</td><td>0</td><td>19.293978</td><td>2406017.0</td></tr><tr><td>Tesla, Inc</td><td>-28920.0</td><td>1</td><td>188.0</td><td>1</td><td>20.946947</td><td>3015323.8</td></tr><tr><td>The Home Depot</td><td>182382.0</td><td>0</td><td>362.0</td><td>1</td><td>19.51784</td><td>1956611.9</td></tr><tr><td>Navistar, Inc.</td><td>-38760.0</td><td>1</td><td>2100.0</td><td>1</td><td>25.020409</td><td>1214999.5</td></tr><tr><td>Mondelez Mexico, S. de R.L. de C.V.</td><td>3420.0</td><td>0</td><td>9420.0</td><td>0</td><td>15.702619</td><td>1775050.9</td></tr><tr><td>Mondelez Global LLC</td><td>3420.0</td><td>0</td><td>9420.0</td><td>0</td><td>15.702619</td><td>1775050.9</td></tr><tr><td>Lear Corporation C/O Cass Information Systems</td><td>-15060.0</td><td>1</td><td>4020.0</td><td>0</td><td>5.763052</td><td>796687.44</td></tr></tbody></table></div>"
      ]
     },
     "metadata": {
      "application/vnd.databricks.v1+output": {
       "addedWidgets": {},
       "aggData": [],
       "aggError": "",
       "aggOverflow": false,
       "aggSchema": [],
       "aggSeriesLimitReached": false,
       "aggType": "",
       "arguments": {},
       "columnCustomDisplayInfos": {},
       "data": [
        [
         "Mondelez Global LLC",
         -5512,
         1,
         12472,
         0,
         12.431646,
         455238.34
        ],
        [
         "Mondelez Global LLC",
         -3428,
         1,
         18801,
         0,
         12.898618,
         883820.75
        ],
        [
         "Tesla, Inc",
         93212,
         0,
         14370,
         0,
         11.015958,
         1084860.2
        ],
        [
         "Mondelez Global LLC",
         -3343,
         1,
         600,
         1,
         9.878309,
         455238.34
        ],
        [
         "Lear Corporation C/O Cass Information Systems",
         240,
         0,
         0,
         1,
         13.529027,
         1900265.1
        ],
        [
         "Kraft Heinz Foods Company",
         -3272,
         1,
         7532,
         0,
         31.489662,
         2346952
        ],
        [
         "DEERE & COMPANY",
         -3272,
         1,
         7532,
         0,
         31.489662,
         2346952
        ],
        [
         "Tesla, Inc",
         -23090,
         1,
         10801,
         0,
         23.887686,
         2986819
        ],
        [
         "Mondelez Global LLC",
         -12887,
         1,
         11802,
         0,
         30.601286,
         2098307.2
        ],
        [
         "Mondelez Mexico, S. de R.L. de C.V.",
         -7523,
         1,
         25194,
         0,
         24.143805,
         2659669.8
        ],
        [
         "Mondelez Global LLC",
         -7523,
         1,
         25194,
         0,
         24.143805,
         2659669.8
        ],
        [
         "Lear Corporation C/O Cass Information Systems",
         4500,
         0,
         6300,
         0,
         40.219543,
         2573527
        ],
        [
         "Kraft Heinz Foods Company",
         -1889,
         1,
         120446,
         0,
         35.159184,
         1782304.1
        ],
        [
         "DEERE & COMPANY",
         -1889,
         1,
         120446,
         0,
         35.159184,
         1782304.1
        ],
        [
         "Tesla, Inc",
         -1625,
         1,
         10411,
         0,
         30.544117,
         3015323.8
        ],
        [
         "Lear Corporation C/O Cass Information Systems",
         -11040,
         1,
         420,
         1,
         20.846231,
         2570198
        ],
        [
         "DHL Supply Chain / Diageo",
         -494964,
         1,
         360,
         1,
         21.279352,
         1246010.5
        ],
        [
         "DEERE & COMPANY",
         -326094,
         1,
         135354,
         0,
         44.095528,
         2283882
        ],
        [
         "Mondelez Mexico, S. de R.L. de C.V.",
         -6610,
         1,
         6124,
         0,
         37.348507,
         1737544.2
        ],
        [
         "Mondelez Global LLC",
         -6610,
         1,
         6124,
         0,
         37.348507,
         1737544.2
        ],
        [
         "DEERE & COMPANY",
         95112,
         0,
         5892,
         0,
         33.210403,
         2008475.4
        ],
        [
         "The Home Depot",
         -682737,
         1,
         6345,
         0,
         16.77322,
         1942188.6
        ],
        [
         "TRANSPLACE TEXAS, LP",
         -4467,
         1,
         17487,
         0,
         8.790945,
         2104376.2
        ],
        [
         "Tesla, Inc",
         28995,
         0,
         5113,
         0,
         18.708826,
         2986819
        ],
        [
         "Lear Corporation C/O Cass Information Systems",
         -9575,
         1,
         381815,
         0,
         0.011976048,
         796687.44
        ],
        [
         "DEERE & COMPANY",
         285021,
         0,
         4539,
         0,
         13.847926,
         1215771.2
        ],
        [
         "Navistar, Inc.",
         18054,
         0,
         3838,
         0,
         24.599588,
         1797628.4
        ],
        [
         "Mondelez Mexico, S. de R.L. de C.V.",
         -5340,
         1,
         4651,
         0,
         14.813214,
         1737544.2
        ],
        [
         "Mondelez Global LLC",
         -5340,
         1,
         4651,
         0,
         14.813214,
         1737544.2
        ],
        [
         "DHL Supply Chain / Sony",
         10673787,
         0,
         68,
         1,
         0,
         2069138.9
        ],
        [
         "DHL Supply Chain / Sony",
         10673787,
         0,
         68,
         1,
         0,
         2069138.9
        ],
        [
         "Lear Corporation C/O Cass Information Systems",
         183636,
         0,
         0,
         1,
         19.4103,
         1890327.6
        ],
        [
         "Mondelez Mexico, S. de R.L. de C.V.",
         -12016,
         1,
         42029,
         0,
         22.779829,
         1737544.2
        ],
        [
         "Mondelez Global LLC",
         -12016,
         1,
         42029,
         0,
         22.779829,
         1737544.2
        ],
        [
         "Tesla, Inc",
         -22292,
         1,
         7473,
         0,
         34.82587,
         2607441.8
        ],
        [
         "TRANSPLACE TEXAS, LP",
         -15033,
         1,
         10293,
         0,
         24.207762,
         3240230.8
        ],
        [
         "Tesla, Inc",
         -37980,
         1,
         30479,
         0,
         15.066756,
         2406017
        ],
        [
         "Navistar, Inc.",
         -84725,
         1,
         1737,
         1,
         31.169323,
         2431225.2
        ],
        [
         "Mondelez Mexico, S. de R.L. de C.V.",
         -19145,
         1,
         15430,
         0,
         29.926147,
         2659669.8
        ],
        [
         "Mondelez Global LLC",
         -19145,
         1,
         15430,
         0,
         29.926147,
         2659669.8
        ],
        [
         "Tesla, Inc",
         -33063,
         1,
         3663,
         0,
         21.575594,
         2651569.2
        ],
        [
         "Mondelez Global LLC",
         -13161,
         1,
         19990,
         0,
         34.832462,
         2098307.2
        ],
        [
         "Mondelez Mexico, S. de R.L. de C.V.",
         -4739,
         1,
         80362,
         0,
         10.827507,
         1737544.2
        ],
        [
         "Mondelez Global LLC",
         -4739,
         1,
         80362,
         0,
         10.827507,
         1737544.2
        ],
        [
         "Mondelez Global LLC",
         -1800,
         1,
         5580,
         0,
         20.631285,
         1897942.2
        ],
        [
         "TRANSPLACE TEXAS, LP",
         -35562,
         1,
         38862,
         0,
         29.804672,
         2754771.2
        ],
        [
         "Mondelez Mexico, S. de R.L. de C.V.",
         -3745,
         1,
         11517,
         0,
         24.306393,
         1737544.2
        ],
        [
         "Mondelez Global LLC",
         -3745,
         1,
         11517,
         0,
         24.306393,
         1737544.2
        ],
        [
         "The Home Depot",
         -64681,
         1,
         4659,
         0,
         28.470356,
         1383505
        ],
        [
         "Tesla, Inc",
         28260,
         0,
         4965,
         0,
         16.044445,
         1077756.4
        ],
        [
         "DEERE & COMPANY",
         23040,
         0,
         6060,
         0,
         19.046358,
         1822936.4
        ],
        [
         "Tesla, Inc",
         6829,
         0,
         8187,
         0,
         15.742495,
         3015323.8
        ],
        [
         "Mondelez Mexico, S. de R.L. de C.V.",
         -47286,
         1,
         63666,
         0,
         19.054531,
         1592425.4
        ],
        [
         "Mondelez Global LLC",
         -47286,
         1,
         63666,
         0,
         19.054531,
         1592425.4
        ],
        [
         "The Home Depot",
         25307,
         0,
         10203,
         0,
         17.740158,
         1125531.4
        ],
        [
         "TRANSPLACE TEXAS, LP",
         0,
         1,
         88920,
         0,
         18.172823,
         1363631.8
        ],
        [
         "Kraft Heinz Foods Company",
         -1164,
         1,
         7714,
         0,
         15.9011345,
         1692256.9
        ],
        [
         "DEERE & COMPANY",
         -1164,
         1,
         7714,
         0,
         15.9011345,
         1692256.9
        ],
        [
         "Tesla, Inc",
         -18300,
         1,
         6180,
         0,
         16.292553,
         2570878.5
        ],
        [
         "Tesla, Inc",
         -34372,
         1,
         29212,
         0,
         15.700663,
         3015323.8
        ],
        [
         "Mondelez Mexico, S. de R.L. de C.V.",
         -3500,
         1,
         5243,
         0,
         20.39346,
         1737544.2
        ],
        [
         "Mondelez Global LLC",
         -3500,
         1,
         5243,
         0,
         20.39346,
         1737544.2
        ],
        [
         "Mondelez Global LLC",
         -31297,
         1,
         37977,
         0,
         20.2,
         2036991.2
        ],
        [
         "DEERE & COMPANY",
         -69420,
         1,
         138060,
         0,
         23.313007,
         1927772.9
        ],
        [
         "DEERE & COMPANY",
         391101,
         0,
         47562,
         0,
         18.53713,
         1601571.8
        ],
        [
         "Kraft Heinz Foods Company",
         -277267,
         1,
         37374,
         0,
         18.627815,
         1820880.2
        ],
        [
         "DEERE & COMPANY",
         -277267,
         1,
         37374,
         0,
         18.627815,
         1820880.2
        ],
        [
         "DEERE & COMPANY",
         -17086,
         1,
         37846,
         0,
         21.080585,
         1820880.2
        ],
        [
         "Kraft Heinz Foods Company",
         1002060,
         0,
         42840,
         0,
         18.169931,
         2389433.8
        ],
        [
         "DEERE & COMPANY",
         1002060,
         0,
         42840,
         0,
         18.169931,
         2389433.8
        ],
        [
         "Mondelez Mexico, S. de R.L. de C.V.",
         -26346,
         1,
         44046,
         0,
         5.1683598,
         2036991.2
        ],
        [
         "Mondelez Global LLC",
         -26346,
         1,
         44046,
         0,
         5.1683598,
         2036991.2
        ],
        [
         "DEERE & COMPANY",
         -32040,
         1,
         38379,
         0,
         14.337185,
         1692256.9
        ],
        [
         "DEERE & COMPANY",
         362760,
         0,
         578,
         1,
         15.062927,
         1820880.2
        ],
        [
         "TRANSPLACE TEXAS, LP",
         -3802,
         1,
         17655,
         0,
         16.807245,
         2104376.2
        ],
        [
         "Lear Corporation C/O Cass Information Systems",
         513060,
         0,
         10680,
         0,
         14.108323,
         1900265.1
        ],
        [
         "Tesla, Inc",
         -164797,
         1,
         39542,
         0,
         26.38193,
         296044.03
        ],
        [
         "Lear Corporation C/O Cass Information Systems",
         0,
         1,
         23400,
         0,
         21.640854,
         1890327.6
        ],
        [
         "Lear Corporation C/O Cass Information Systems",
         -6627,
         1,
         9382,
         0,
         14.111111,
         2458360.2
        ],
        [
         "Mondelez Mexico, S. de R.L. de C.V.",
         5930,
         0,
         10210,
         0,
         3.938871,
         1888156.8
        ],
        [
         "Mondelez Global LLC",
         5930,
         0,
         10210,
         0,
         3.938871,
         1888156.8
        ],
        [
         "Lear Corporation C/O Cass Information Systems",
         -59160,
         1,
         57979,
         0,
         17.801363,
         1890327.6
        ],
        [
         "Lear Corporation C/O Cass Information Systems",
         8100,
         0,
         1020,
         1,
         18.975883,
         1914107
        ],
        [
         "DEERE & COMPANY",
         -265910,
         1,
         13970,
         0,
         30.679672,
         1742527
        ],
        [
         "Lear Corporation C/O Cass Information Systems",
         0,
         1,
         6600,
         0,
         14.910448,
         1890327.6
        ],
        [
         "Lear Corporation C/O Cass Information Systems",
         189,
         0,
         6411,
         0,
         2.0279553,
         2231192.8
        ],
        [
         "DEERE & COMPANY",
         -2150,
         1,
         4096,
         0,
         13.580516,
         2008475.4
        ],
        [
         "Lear Corporation C/O Cass Information Systems",
         -104326,
         1,
         16889,
         0,
         15.111332,
         1890327.6
        ],
        [
         "Mondelez Mexico, S. de R.L. de C.V.",
         -425,
         1,
         7429,
         0,
         15.967116,
         1543702.8
        ],
        [
         "Mondelez Global LLC",
         -425,
         1,
         7429,
         0,
         15.967116,
         1543702.8
        ],
        [
         "Mondelez Global LLC",
         -2148,
         1,
         341163,
         0,
         16.817013,
         1737544.2
        ],
        [
         "Mondelez Mexico, S. de R.L. de C.V.",
         -1125,
         1,
         45577,
         0,
         16.620358,
         1592425.4
        ],
        [
         "Mondelez Global LLC",
         -1125,
         1,
         45577,
         0,
         16.620358,
         1592425.4
        ],
        [
         "Mondelez Mexico, S. de R.L. de C.V.",
         2715,
         0,
         6528,
         0,
         13.214571,
         1425121.4
        ],
        [
         "Mondelez Global LLC",
         2715,
         0,
         6528,
         0,
         13.214571,
         1425121.4
        ],
        [
         "Mondelez Mexico, S. de R.L. de C.V.",
         5289,
         0,
         3821,
         0,
         17.397827,
         1447160.5
        ],
        [
         "Mondelez Global LLC",
         5289,
         0,
         3821,
         0,
         17.397827,
         1447160.5
        ],
        [
         "Mondelez Mexico, S. de R.L. de C.V.",
         4123,
         0,
         9270,
         0,
         14.858923,
         1892819.6
        ],
        [
         "Mondelez Global LLC",
         4123,
         0,
         9270,
         0,
         14.858923,
         1892819.6
        ],
        [
         "Tesla, Inc",
         115680,
         0,
         19380,
         0,
         19.293978,
         2406017
        ],
        [
         "Tesla, Inc",
         -28920,
         1,
         188,
         1,
         20.946947,
         3015323.8
        ],
        [
         "The Home Depot",
         182382,
         0,
         362,
         1,
         19.51784,
         1956611.9
        ],
        [
         "Navistar, Inc.",
         -38760,
         1,
         2100,
         1,
         25.020409,
         1214999.5
        ],
        [
         "Mondelez Mexico, S. de R.L. de C.V.",
         3420,
         0,
         9420,
         0,
         15.702619,
         1775050.9
        ],
        [
         "Mondelez Global LLC",
         3420,
         0,
         9420,
         0,
         15.702619,
         1775050.9
        ],
        [
         "Lear Corporation C/O Cass Information Systems",
         -15060,
         1,
         4020,
         0,
         5.763052,
         796687.44
        ]
       ],
       "datasetInfos": [],
       "dbfsResultPath": null,
       "isJsonSchema": true,
       "metadata": {},
       "overflow": false,
       "plotOptions": {
        "customPlotOptions": {},
        "displayType": "table",
        "pivotAggregation": null,
        "pivotColumns": null,
        "xColumns": null,
        "yColumns": null
       },
       "removedWidgets": [],
       "schema": [
        {
         "metadata": "{}",
         "name": "Customer",
         "type": "\"string\""
        },
        {
         "metadata": "{}",
         "name": "arriveDifference",
         "type": "\"float\""
        },
        {
         "metadata": "{}",
         "name": "onTimeArrival",
         "type": "\"long\""
        },
        {
         "metadata": "{}",
         "name": "departureDifference",
         "type": "\"float\""
        },
        {
         "metadata": "{}",
         "name": "onTimeDeparture",
         "type": "\"long\""
        },
        {
         "metadata": "{}",
         "name": "avg_speed",
         "type": "\"float\""
        },
        {
         "metadata": "{}",
         "name": "distance",
         "type": "\"float\""
        }
       ],
       "type": "table"
      }
     },
     "output_type": "display_data"
    }
   ],
   "source": [
    "display(df)"
   ]
  },
  {
   "cell_type": "markdown",
   "metadata": {},
   "source": [
    "## Selección de Características\n",
    "1. Se seleccionaron las características más relevantes de acuerdo al análisis previo de los datos, la columna objetivo fue seleccionada.\n",
    "2. Se dividió el conjunto de dato de entrenamiento y prueba empleando un 20% para validación y 80 para el entrenamiento."
   ]
  },
  {
   "cell_type": "code",
   "execution_count": null,
   "metadata": {
    "application/vnd.databricks.v1+cell": {
     "cellMetadata": {
      "byteLimit": 2048000,
      "rowLimit": 10000
     },
     "inputWidgets": {},
     "nuid": "0dcb3c39-30db-4e61-bb4b-73d3681ed7e8",
     "showTitle": false,
     "title": ""
    }
   },
   "outputs": [
    {
     "name": "stdout",
     "output_type": "stream",
     "text": [
      "<class 'pyspark.pandas.frame.DataFrame'>\n"
     ]
    },
    {
     "data": {
      "text/html": [
       "<style scoped>\n",
       "  .table-result-container {\n",
       "    max-height: 300px;\n",
       "    overflow: auto;\n",
       "  }\n",
       "  table, th, td {\n",
       "    border: 1px solid black;\n",
       "    border-collapse: collapse;\n",
       "  }\n",
       "  th, td {\n",
       "    padding: 5px;\n",
       "  }\n",
       "  th {\n",
       "    text-align: left;\n",
       "  }\n",
       "</style><div class='table-result-container'><table class='table-result'><thead style='background-color: white'><tr><th>arriveDifference</th><th>onTimeArrival</th><th>departureDifference</th><th>onTimeDeparture</th><th>avg_speed</th><th>distance</th></tr></thead><tbody><tr><td>-5512.0</td><td>1</td><td>12472.0</td><td>0</td><td>12.431646</td><td>455238.34</td></tr><tr><td>-3428.0</td><td>1</td><td>18801.0</td><td>0</td><td>12.898618</td><td>883820.75</td></tr><tr><td>93212.0</td><td>0</td><td>14370.0</td><td>0</td><td>11.015958</td><td>1084860.2</td></tr><tr><td>-3343.0</td><td>1</td><td>600.0</td><td>1</td><td>9.878309</td><td>455238.34</td></tr><tr><td>240.0</td><td>0</td><td>0.0</td><td>1</td><td>13.529027</td><td>1900265.1</td></tr><tr><td>-3272.0</td><td>1</td><td>7532.0</td><td>0</td><td>31.489662</td><td>2346952.0</td></tr><tr><td>-3272.0</td><td>1</td><td>7532.0</td><td>0</td><td>31.489662</td><td>2346952.0</td></tr><tr><td>-23090.0</td><td>1</td><td>10801.0</td><td>0</td><td>23.887686</td><td>2986819.0</td></tr><tr><td>-12887.0</td><td>1</td><td>11802.0</td><td>0</td><td>30.601286</td><td>2098307.2</td></tr><tr><td>-7523.0</td><td>1</td><td>25194.0</td><td>0</td><td>24.143805</td><td>2659669.8</td></tr><tr><td>-7523.0</td><td>1</td><td>25194.0</td><td>0</td><td>24.143805</td><td>2659669.8</td></tr><tr><td>4500.0</td><td>0</td><td>6300.0</td><td>0</td><td>40.219543</td><td>2573527.0</td></tr><tr><td>-1889.0</td><td>1</td><td>120446.0</td><td>0</td><td>35.159184</td><td>1782304.1</td></tr><tr><td>-1889.0</td><td>1</td><td>120446.0</td><td>0</td><td>35.159184</td><td>1782304.1</td></tr><tr><td>-1625.0</td><td>1</td><td>10411.0</td><td>0</td><td>30.544117</td><td>3015323.8</td></tr><tr><td>-11040.0</td><td>1</td><td>420.0</td><td>1</td><td>20.846231</td><td>2570198.0</td></tr><tr><td>-494964.0</td><td>1</td><td>360.0</td><td>1</td><td>21.279352</td><td>1246010.5</td></tr><tr><td>-326094.0</td><td>1</td><td>135354.0</td><td>0</td><td>44.095528</td><td>2283882.0</td></tr><tr><td>-6610.0</td><td>1</td><td>6124.0</td><td>0</td><td>37.348507</td><td>1737544.2</td></tr><tr><td>-6610.0</td><td>1</td><td>6124.0</td><td>0</td><td>37.348507</td><td>1737544.2</td></tr><tr><td>95112.0</td><td>0</td><td>5892.0</td><td>0</td><td>33.210403</td><td>2008475.4</td></tr><tr><td>-682737.0</td><td>1</td><td>6345.0</td><td>0</td><td>16.77322</td><td>1942188.6</td></tr><tr><td>-4467.0</td><td>1</td><td>17487.0</td><td>0</td><td>8.790945</td><td>2104376.2</td></tr><tr><td>28995.0</td><td>0</td><td>5113.0</td><td>0</td><td>18.708826</td><td>2986819.0</td></tr><tr><td>-9575.0</td><td>1</td><td>381815.0</td><td>0</td><td>0.011976048</td><td>796687.44</td></tr><tr><td>285021.0</td><td>0</td><td>4539.0</td><td>0</td><td>13.847926</td><td>1215771.2</td></tr><tr><td>18054.0</td><td>0</td><td>3838.0</td><td>0</td><td>24.599588</td><td>1797628.4</td></tr><tr><td>-5340.0</td><td>1</td><td>4651.0</td><td>0</td><td>14.813214</td><td>1737544.2</td></tr><tr><td>-5340.0</td><td>1</td><td>4651.0</td><td>0</td><td>14.813214</td><td>1737544.2</td></tr><tr><td>1.0673787E7</td><td>0</td><td>68.0</td><td>1</td><td>0.0</td><td>2069138.9</td></tr><tr><td>1.0673787E7</td><td>0</td><td>68.0</td><td>1</td><td>0.0</td><td>2069138.9</td></tr><tr><td>183636.0</td><td>0</td><td>0.0</td><td>1</td><td>19.4103</td><td>1890327.6</td></tr><tr><td>-12016.0</td><td>1</td><td>42029.0</td><td>0</td><td>22.779829</td><td>1737544.2</td></tr><tr><td>-12016.0</td><td>1</td><td>42029.0</td><td>0</td><td>22.779829</td><td>1737544.2</td></tr><tr><td>-22292.0</td><td>1</td><td>7473.0</td><td>0</td><td>34.82587</td><td>2607441.8</td></tr><tr><td>-15033.0</td><td>1</td><td>10293.0</td><td>0</td><td>24.207762</td><td>3240230.8</td></tr><tr><td>-37980.0</td><td>1</td><td>30479.0</td><td>0</td><td>15.066756</td><td>2406017.0</td></tr><tr><td>-84725.0</td><td>1</td><td>1737.0</td><td>1</td><td>31.169323</td><td>2431225.2</td></tr><tr><td>-19145.0</td><td>1</td><td>15430.0</td><td>0</td><td>29.926147</td><td>2659669.8</td></tr><tr><td>-19145.0</td><td>1</td><td>15430.0</td><td>0</td><td>29.926147</td><td>2659669.8</td></tr><tr><td>-33063.0</td><td>1</td><td>3663.0</td><td>0</td><td>21.575594</td><td>2651569.2</td></tr><tr><td>-13161.0</td><td>1</td><td>19990.0</td><td>0</td><td>34.832462</td><td>2098307.2</td></tr><tr><td>-4739.0</td><td>1</td><td>80362.0</td><td>0</td><td>10.827507</td><td>1737544.2</td></tr><tr><td>-4739.0</td><td>1</td><td>80362.0</td><td>0</td><td>10.827507</td><td>1737544.2</td></tr><tr><td>-1800.0</td><td>1</td><td>5580.0</td><td>0</td><td>20.631285</td><td>1897942.2</td></tr><tr><td>-35562.0</td><td>1</td><td>38862.0</td><td>0</td><td>29.804672</td><td>2754771.2</td></tr><tr><td>-3745.0</td><td>1</td><td>11517.0</td><td>0</td><td>24.306393</td><td>1737544.2</td></tr><tr><td>-3745.0</td><td>1</td><td>11517.0</td><td>0</td><td>24.306393</td><td>1737544.2</td></tr><tr><td>-64681.0</td><td>1</td><td>4659.0</td><td>0</td><td>28.470356</td><td>1383505.0</td></tr><tr><td>28260.0</td><td>0</td><td>4965.0</td><td>0</td><td>16.044445</td><td>1077756.4</td></tr><tr><td>23040.0</td><td>0</td><td>6060.0</td><td>0</td><td>19.046358</td><td>1822936.4</td></tr><tr><td>6829.0</td><td>0</td><td>8187.0</td><td>0</td><td>15.742495</td><td>3015323.8</td></tr><tr><td>-47286.0</td><td>1</td><td>63666.0</td><td>0</td><td>19.054531</td><td>1592425.4</td></tr><tr><td>-47286.0</td><td>1</td><td>63666.0</td><td>0</td><td>19.054531</td><td>1592425.4</td></tr><tr><td>25307.0</td><td>0</td><td>10203.0</td><td>0</td><td>17.740158</td><td>1125531.4</td></tr><tr><td>0.0</td><td>1</td><td>88920.0</td><td>0</td><td>18.172823</td><td>1363631.8</td></tr><tr><td>-1164.0</td><td>1</td><td>7714.0</td><td>0</td><td>15.9011345</td><td>1692256.9</td></tr><tr><td>-1164.0</td><td>1</td><td>7714.0</td><td>0</td><td>15.9011345</td><td>1692256.9</td></tr><tr><td>-18300.0</td><td>1</td><td>6180.0</td><td>0</td><td>16.292553</td><td>2570878.5</td></tr><tr><td>-34372.0</td><td>1</td><td>29212.0</td><td>0</td><td>15.700663</td><td>3015323.8</td></tr><tr><td>-3500.0</td><td>1</td><td>5243.0</td><td>0</td><td>20.39346</td><td>1737544.2</td></tr><tr><td>-3500.0</td><td>1</td><td>5243.0</td><td>0</td><td>20.39346</td><td>1737544.2</td></tr><tr><td>-31297.0</td><td>1</td><td>37977.0</td><td>0</td><td>20.2</td><td>2036991.2</td></tr><tr><td>-69420.0</td><td>1</td><td>138060.0</td><td>0</td><td>23.313007</td><td>1927772.9</td></tr><tr><td>391101.0</td><td>0</td><td>47562.0</td><td>0</td><td>18.53713</td><td>1601571.8</td></tr><tr><td>-277267.0</td><td>1</td><td>37374.0</td><td>0</td><td>18.627815</td><td>1820880.2</td></tr><tr><td>-277267.0</td><td>1</td><td>37374.0</td><td>0</td><td>18.627815</td><td>1820880.2</td></tr><tr><td>-17086.0</td><td>1</td><td>37846.0</td><td>0</td><td>21.080585</td><td>1820880.2</td></tr><tr><td>1002060.0</td><td>0</td><td>42840.0</td><td>0</td><td>18.169931</td><td>2389433.8</td></tr><tr><td>1002060.0</td><td>0</td><td>42840.0</td><td>0</td><td>18.169931</td><td>2389433.8</td></tr><tr><td>-26346.0</td><td>1</td><td>44046.0</td><td>0</td><td>5.1683598</td><td>2036991.2</td></tr><tr><td>-26346.0</td><td>1</td><td>44046.0</td><td>0</td><td>5.1683598</td><td>2036991.2</td></tr><tr><td>-32040.0</td><td>1</td><td>38379.0</td><td>0</td><td>14.337185</td><td>1692256.9</td></tr><tr><td>362760.0</td><td>0</td><td>578.0</td><td>1</td><td>15.062927</td><td>1820880.2</td></tr><tr><td>-3802.0</td><td>1</td><td>17655.0</td><td>0</td><td>16.807245</td><td>2104376.2</td></tr><tr><td>513060.0</td><td>0</td><td>10680.0</td><td>0</td><td>14.108323</td><td>1900265.1</td></tr><tr><td>-164797.0</td><td>1</td><td>39542.0</td><td>0</td><td>26.38193</td><td>296044.03</td></tr><tr><td>0.0</td><td>1</td><td>23400.0</td><td>0</td><td>21.640854</td><td>1890327.6</td></tr><tr><td>-6627.0</td><td>1</td><td>9382.0</td><td>0</td><td>14.111111</td><td>2458360.2</td></tr><tr><td>5930.0</td><td>0</td><td>10210.0</td><td>0</td><td>3.938871</td><td>1888156.8</td></tr><tr><td>5930.0</td><td>0</td><td>10210.0</td><td>0</td><td>3.938871</td><td>1888156.8</td></tr><tr><td>-59160.0</td><td>1</td><td>57979.0</td><td>0</td><td>17.801363</td><td>1890327.6</td></tr><tr><td>8100.0</td><td>0</td><td>1020.0</td><td>1</td><td>18.975883</td><td>1914107.0</td></tr><tr><td>-265910.0</td><td>1</td><td>13970.0</td><td>0</td><td>30.679672</td><td>1742527.0</td></tr><tr><td>0.0</td><td>1</td><td>6600.0</td><td>0</td><td>14.910448</td><td>1890327.6</td></tr><tr><td>189.0</td><td>0</td><td>6411.0</td><td>0</td><td>2.0279553</td><td>2231192.8</td></tr><tr><td>-2150.0</td><td>1</td><td>4096.0</td><td>0</td><td>13.580516</td><td>2008475.4</td></tr><tr><td>-104326.0</td><td>1</td><td>16889.0</td><td>0</td><td>15.111332</td><td>1890327.6</td></tr><tr><td>-425.0</td><td>1</td><td>7429.0</td><td>0</td><td>15.967116</td><td>1543702.8</td></tr><tr><td>-425.0</td><td>1</td><td>7429.0</td><td>0</td><td>15.967116</td><td>1543702.8</td></tr><tr><td>-2148.0</td><td>1</td><td>341163.0</td><td>0</td><td>16.817013</td><td>1737544.2</td></tr><tr><td>-1125.0</td><td>1</td><td>45577.0</td><td>0</td><td>16.620358</td><td>1592425.4</td></tr><tr><td>-1125.0</td><td>1</td><td>45577.0</td><td>0</td><td>16.620358</td><td>1592425.4</td></tr><tr><td>2715.0</td><td>0</td><td>6528.0</td><td>0</td><td>13.214571</td><td>1425121.4</td></tr><tr><td>2715.0</td><td>0</td><td>6528.0</td><td>0</td><td>13.214571</td><td>1425121.4</td></tr><tr><td>5289.0</td><td>0</td><td>3821.0</td><td>0</td><td>17.397827</td><td>1447160.5</td></tr><tr><td>5289.0</td><td>0</td><td>3821.0</td><td>0</td><td>17.397827</td><td>1447160.5</td></tr><tr><td>4123.0</td><td>0</td><td>9270.0</td><td>0</td><td>14.858923</td><td>1892819.6</td></tr><tr><td>4123.0</td><td>0</td><td>9270.0</td><td>0</td><td>14.858923</td><td>1892819.6</td></tr><tr><td>115680.0</td><td>0</td><td>19380.0</td><td>0</td><td>19.293978</td><td>2406017.0</td></tr><tr><td>-28920.0</td><td>1</td><td>188.0</td><td>1</td><td>20.946947</td><td>3015323.8</td></tr><tr><td>182382.0</td><td>0</td><td>362.0</td><td>1</td><td>19.51784</td><td>1956611.9</td></tr><tr><td>-38760.0</td><td>1</td><td>2100.0</td><td>1</td><td>25.020409</td><td>1214999.5</td></tr><tr><td>3420.0</td><td>0</td><td>9420.0</td><td>0</td><td>15.702619</td><td>1775050.9</td></tr><tr><td>3420.0</td><td>0</td><td>9420.0</td><td>0</td><td>15.702619</td><td>1775050.9</td></tr><tr><td>-15060.0</td><td>1</td><td>4020.0</td><td>0</td><td>5.763052</td><td>796687.44</td></tr></tbody></table></div>"
      ]
     },
     "metadata": {
      "application/vnd.databricks.v1+output": {
       "addedWidgets": {},
       "aggData": [],
       "aggError": "",
       "aggOverflow": false,
       "aggSchema": [],
       "aggSeriesLimitReached": false,
       "aggType": "",
       "arguments": {},
       "columnCustomDisplayInfos": {},
       "data": [
        [
         -5512,
         1,
         12472,
         0,
         12.431646,
         455238.34
        ],
        [
         -3428,
         1,
         18801,
         0,
         12.898618,
         883820.75
        ],
        [
         93212,
         0,
         14370,
         0,
         11.015958,
         1084860.2
        ],
        [
         -3343,
         1,
         600,
         1,
         9.878309,
         455238.34
        ],
        [
         240,
         0,
         0,
         1,
         13.529027,
         1900265.1
        ],
        [
         -3272,
         1,
         7532,
         0,
         31.489662,
         2346952
        ],
        [
         -3272,
         1,
         7532,
         0,
         31.489662,
         2346952
        ],
        [
         -23090,
         1,
         10801,
         0,
         23.887686,
         2986819
        ],
        [
         -12887,
         1,
         11802,
         0,
         30.601286,
         2098307.2
        ],
        [
         -7523,
         1,
         25194,
         0,
         24.143805,
         2659669.8
        ],
        [
         -7523,
         1,
         25194,
         0,
         24.143805,
         2659669.8
        ],
        [
         4500,
         0,
         6300,
         0,
         40.219543,
         2573527
        ],
        [
         -1889,
         1,
         120446,
         0,
         35.159184,
         1782304.1
        ],
        [
         -1889,
         1,
         120446,
         0,
         35.159184,
         1782304.1
        ],
        [
         -1625,
         1,
         10411,
         0,
         30.544117,
         3015323.8
        ],
        [
         -11040,
         1,
         420,
         1,
         20.846231,
         2570198
        ],
        [
         -494964,
         1,
         360,
         1,
         21.279352,
         1246010.5
        ],
        [
         -326094,
         1,
         135354,
         0,
         44.095528,
         2283882
        ],
        [
         -6610,
         1,
         6124,
         0,
         37.348507,
         1737544.2
        ],
        [
         -6610,
         1,
         6124,
         0,
         37.348507,
         1737544.2
        ],
        [
         95112,
         0,
         5892,
         0,
         33.210403,
         2008475.4
        ],
        [
         -682737,
         1,
         6345,
         0,
         16.77322,
         1942188.6
        ],
        [
         -4467,
         1,
         17487,
         0,
         8.790945,
         2104376.2
        ],
        [
         28995,
         0,
         5113,
         0,
         18.708826,
         2986819
        ],
        [
         -9575,
         1,
         381815,
         0,
         0.011976048,
         796687.44
        ],
        [
         285021,
         0,
         4539,
         0,
         13.847926,
         1215771.2
        ],
        [
         18054,
         0,
         3838,
         0,
         24.599588,
         1797628.4
        ],
        [
         -5340,
         1,
         4651,
         0,
         14.813214,
         1737544.2
        ],
        [
         -5340,
         1,
         4651,
         0,
         14.813214,
         1737544.2
        ],
        [
         10673787,
         0,
         68,
         1,
         0,
         2069138.9
        ],
        [
         10673787,
         0,
         68,
         1,
         0,
         2069138.9
        ],
        [
         183636,
         0,
         0,
         1,
         19.4103,
         1890327.6
        ],
        [
         -12016,
         1,
         42029,
         0,
         22.779829,
         1737544.2
        ],
        [
         -12016,
         1,
         42029,
         0,
         22.779829,
         1737544.2
        ],
        [
         -22292,
         1,
         7473,
         0,
         34.82587,
         2607441.8
        ],
        [
         -15033,
         1,
         10293,
         0,
         24.207762,
         3240230.8
        ],
        [
         -37980,
         1,
         30479,
         0,
         15.066756,
         2406017
        ],
        [
         -84725,
         1,
         1737,
         1,
         31.169323,
         2431225.2
        ],
        [
         -19145,
         1,
         15430,
         0,
         29.926147,
         2659669.8
        ],
        [
         -19145,
         1,
         15430,
         0,
         29.926147,
         2659669.8
        ],
        [
         -33063,
         1,
         3663,
         0,
         21.575594,
         2651569.2
        ],
        [
         -13161,
         1,
         19990,
         0,
         34.832462,
         2098307.2
        ],
        [
         -4739,
         1,
         80362,
         0,
         10.827507,
         1737544.2
        ],
        [
         -4739,
         1,
         80362,
         0,
         10.827507,
         1737544.2
        ],
        [
         -1800,
         1,
         5580,
         0,
         20.631285,
         1897942.2
        ],
        [
         -35562,
         1,
         38862,
         0,
         29.804672,
         2754771.2
        ],
        [
         -3745,
         1,
         11517,
         0,
         24.306393,
         1737544.2
        ],
        [
         -3745,
         1,
         11517,
         0,
         24.306393,
         1737544.2
        ],
        [
         -64681,
         1,
         4659,
         0,
         28.470356,
         1383505
        ],
        [
         28260,
         0,
         4965,
         0,
         16.044445,
         1077756.4
        ],
        [
         23040,
         0,
         6060,
         0,
         19.046358,
         1822936.4
        ],
        [
         6829,
         0,
         8187,
         0,
         15.742495,
         3015323.8
        ],
        [
         -47286,
         1,
         63666,
         0,
         19.054531,
         1592425.4
        ],
        [
         -47286,
         1,
         63666,
         0,
         19.054531,
         1592425.4
        ],
        [
         25307,
         0,
         10203,
         0,
         17.740158,
         1125531.4
        ],
        [
         0,
         1,
         88920,
         0,
         18.172823,
         1363631.8
        ],
        [
         -1164,
         1,
         7714,
         0,
         15.9011345,
         1692256.9
        ],
        [
         -1164,
         1,
         7714,
         0,
         15.9011345,
         1692256.9
        ],
        [
         -18300,
         1,
         6180,
         0,
         16.292553,
         2570878.5
        ],
        [
         -34372,
         1,
         29212,
         0,
         15.700663,
         3015323.8
        ],
        [
         -3500,
         1,
         5243,
         0,
         20.39346,
         1737544.2
        ],
        [
         -3500,
         1,
         5243,
         0,
         20.39346,
         1737544.2
        ],
        [
         -31297,
         1,
         37977,
         0,
         20.2,
         2036991.2
        ],
        [
         -69420,
         1,
         138060,
         0,
         23.313007,
         1927772.9
        ],
        [
         391101,
         0,
         47562,
         0,
         18.53713,
         1601571.8
        ],
        [
         -277267,
         1,
         37374,
         0,
         18.627815,
         1820880.2
        ],
        [
         -277267,
         1,
         37374,
         0,
         18.627815,
         1820880.2
        ],
        [
         -17086,
         1,
         37846,
         0,
         21.080585,
         1820880.2
        ],
        [
         1002060,
         0,
         42840,
         0,
         18.169931,
         2389433.8
        ],
        [
         1002060,
         0,
         42840,
         0,
         18.169931,
         2389433.8
        ],
        [
         -26346,
         1,
         44046,
         0,
         5.1683598,
         2036991.2
        ],
        [
         -26346,
         1,
         44046,
         0,
         5.1683598,
         2036991.2
        ],
        [
         -32040,
         1,
         38379,
         0,
         14.337185,
         1692256.9
        ],
        [
         362760,
         0,
         578,
         1,
         15.062927,
         1820880.2
        ],
        [
         -3802,
         1,
         17655,
         0,
         16.807245,
         2104376.2
        ],
        [
         513060,
         0,
         10680,
         0,
         14.108323,
         1900265.1
        ],
        [
         -164797,
         1,
         39542,
         0,
         26.38193,
         296044.03
        ],
        [
         0,
         1,
         23400,
         0,
         21.640854,
         1890327.6
        ],
        [
         -6627,
         1,
         9382,
         0,
         14.111111,
         2458360.2
        ],
        [
         5930,
         0,
         10210,
         0,
         3.938871,
         1888156.8
        ],
        [
         5930,
         0,
         10210,
         0,
         3.938871,
         1888156.8
        ],
        [
         -59160,
         1,
         57979,
         0,
         17.801363,
         1890327.6
        ],
        [
         8100,
         0,
         1020,
         1,
         18.975883,
         1914107
        ],
        [
         -265910,
         1,
         13970,
         0,
         30.679672,
         1742527
        ],
        [
         0,
         1,
         6600,
         0,
         14.910448,
         1890327.6
        ],
        [
         189,
         0,
         6411,
         0,
         2.0279553,
         2231192.8
        ],
        [
         -2150,
         1,
         4096,
         0,
         13.580516,
         2008475.4
        ],
        [
         -104326,
         1,
         16889,
         0,
         15.111332,
         1890327.6
        ],
        [
         -425,
         1,
         7429,
         0,
         15.967116,
         1543702.8
        ],
        [
         -425,
         1,
         7429,
         0,
         15.967116,
         1543702.8
        ],
        [
         -2148,
         1,
         341163,
         0,
         16.817013,
         1737544.2
        ],
        [
         -1125,
         1,
         45577,
         0,
         16.620358,
         1592425.4
        ],
        [
         -1125,
         1,
         45577,
         0,
         16.620358,
         1592425.4
        ],
        [
         2715,
         0,
         6528,
         0,
         13.214571,
         1425121.4
        ],
        [
         2715,
         0,
         6528,
         0,
         13.214571,
         1425121.4
        ],
        [
         5289,
         0,
         3821,
         0,
         17.397827,
         1447160.5
        ],
        [
         5289,
         0,
         3821,
         0,
         17.397827,
         1447160.5
        ],
        [
         4123,
         0,
         9270,
         0,
         14.858923,
         1892819.6
        ],
        [
         4123,
         0,
         9270,
         0,
         14.858923,
         1892819.6
        ],
        [
         115680,
         0,
         19380,
         0,
         19.293978,
         2406017
        ],
        [
         -28920,
         1,
         188,
         1,
         20.946947,
         3015323.8
        ],
        [
         182382,
         0,
         362,
         1,
         19.51784,
         1956611.9
        ],
        [
         -38760,
         1,
         2100,
         1,
         25.020409,
         1214999.5
        ],
        [
         3420,
         0,
         9420,
         0,
         15.702619,
         1775050.9
        ],
        [
         3420,
         0,
         9420,
         0,
         15.702619,
         1775050.9
        ],
        [
         -15060,
         1,
         4020,
         0,
         5.763052,
         796687.44
        ]
       ],
       "datasetInfos": [],
       "dbfsResultPath": null,
       "isJsonSchema": true,
       "metadata": {},
       "overflow": false,
       "plotOptions": {
        "customPlotOptions": {},
        "displayType": "table",
        "pivotAggregation": null,
        "pivotColumns": null,
        "xColumns": null,
        "yColumns": null
       },
       "removedWidgets": [],
       "schema": [
        {
         "metadata": "{}",
         "name": "arriveDifference",
         "type": "\"float\""
        },
        {
         "metadata": "{}",
         "name": "onTimeArrival",
         "type": "\"long\""
        },
        {
         "metadata": "{}",
         "name": "departureDifference",
         "type": "\"float\""
        },
        {
         "metadata": "{}",
         "name": "onTimeDeparture",
         "type": "\"long\""
        },
        {
         "metadata": "{}",
         "name": "avg_speed",
         "type": "\"float\""
        },
        {
         "metadata": "{}",
         "name": "distance",
         "type": "\"float\""
        }
       ],
       "type": "table"
      }
     },
     "output_type": "display_data"
    }
   ],
   "source": [
    "X = df[['arriveDifference', 'onTimeArrival', 'departureDifference', 'onTimeDeparture', 'avg_speed', 'distance']]\n",
    "print(type(X))\n",
    "display(X)"
   ]
  },
  {
   "cell_type": "code",
   "execution_count": null,
   "metadata": {
    "application/vnd.databricks.v1+cell": {
     "cellMetadata": {
      "byteLimit": 2048000,
      "rowLimit": 10000
     },
     "inputWidgets": {},
     "nuid": "b1b26872-6b95-4804-8fae-fa720cc780ad",
     "showTitle": false,
     "title": ""
    }
   },
   "outputs": [
    {
     "name": "stdout",
     "output_type": "stream",
     "text": [
      "Number of samples in X: 106\n",
      "Number of samples in y: 106\n"
     ]
    }
   ],
   "source": [
    "# Seleccionar las columnas necesarias en el DataFrame Spark\n",
    "X_spark = df[['arriveDifference', 'departureDifference', 'onTimeDeparture', 'avg_speed', 'distance']]\n",
    "\n",
    "# Convertir el DataFrame Spark a un DataFrame de pandas\n",
    "X_pd = X_spark.to_pandas()\n",
    "\n",
    "# Seleccionar la columna target en el DataFrame Spark\n",
    "y_spark = df['onTimeArrival']\n",
    "\n",
    "# Convertir el DataFrame Spark a una Serie de pandas\n",
    "y_pd = y_spark.to_pandas()\n",
    "\n",
    "# Verificar el número de muestras en X e y\n",
    "print(\"Number of samples in X:\", X_pd.shape[0])\n",
    "print(\"Number of samples in y:\", y_pd.shape[0])\n"
   ]
  },
  {
   "cell_type": "markdown",
   "metadata": {
    "application/vnd.databricks.v1+cell": {
     "cellMetadata": {},
     "inputWidgets": {},
     "nuid": "c585db2b-6e98-459f-88a2-f5c413558478",
     "showTitle": false,
     "title": ""
    }
   },
   "source": [
    "## Optimización de parametros\n",
    "\n",
    "Empleando la estrategia de Grid Search para cada uno de los modelos empleados anteriormente, evaluamos el comportamiento de los modelos para encontrar los valores de parametros para cada uno de los algoritmos."
   ]
  },
  {
   "cell_type": "code",
   "execution_count": null,
   "metadata": {
    "application/vnd.databricks.v1+cell": {
     "cellMetadata": {
      "byteLimit": 2048000,
      "rowLimit": 10000
     },
     "inputWidgets": {},
     "nuid": "ef67a1e0-c6e0-4819-a32f-4c5746b77e56",
     "showTitle": false,
     "title": ""
    }
   },
   "outputs": [
    {
     "name": "stdout",
     "output_type": "stream",
     "text": [
      "Number of samples in X: 106\n",
      "Number of samples in y: 106\n"
     ]
    },
    {
     "name": "stderr",
     "output_type": "stream",
     "text": [
      "/databricks/python/lib/python3.10/site-packages/sklearn/svm/_base.py:1225: ConvergenceWarning: Liblinear failed to converge, increase the number of iterations.\n",
      "  warnings.warn(\n",
      "/databricks/python/lib/python3.10/site-packages/sklearn/svm/_base.py:1225: ConvergenceWarning: Liblinear failed to converge, increase the number of iterations.\n",
      "  warnings.warn(\n",
      "/databricks/python/lib/python3.10/site-packages/sklearn/svm/_base.py:1225: ConvergenceWarning: Liblinear failed to converge, increase the number of iterations.\n",
      "  warnings.warn(\n",
      "/databricks/python/lib/python3.10/site-packages/sklearn/svm/_base.py:1225: ConvergenceWarning: Liblinear failed to converge, increase the number of iterations.\n",
      "  warnings.warn(\n",
      "/databricks/python/lib/python3.10/site-packages/sklearn/svm/_base.py:1225: ConvergenceWarning: Liblinear failed to converge, increase the number of iterations.\n",
      "  warnings.warn(\n",
      "/databricks/python/lib/python3.10/site-packages/sklearn/svm/_base.py:1225: ConvergenceWarning: Liblinear failed to converge, increase the number of iterations.\n",
      "  warnings.warn(\n",
      "/databricks/python/lib/python3.10/site-packages/sklearn/svm/_base.py:1225: ConvergenceWarning: Liblinear failed to converge, increase the number of iterations.\n",
      "  warnings.warn(\n",
      "/databricks/python/lib/python3.10/site-packages/sklearn/svm/_base.py:1225: ConvergenceWarning: Liblinear failed to converge, increase the number of iterations.\n",
      "  warnings.warn(\n",
      "/databricks/python/lib/python3.10/site-packages/sklearn/svm/_base.py:1225: ConvergenceWarning: Liblinear failed to converge, increase the number of iterations.\n",
      "  warnings.warn(\n",
      "/databricks/python/lib/python3.10/site-packages/sklearn/svm/_base.py:1225: ConvergenceWarning: Liblinear failed to converge, increase the number of iterations.\n",
      "  warnings.warn(\n",
      "/databricks/python/lib/python3.10/site-packages/sklearn/svm/_base.py:1225: ConvergenceWarning: Liblinear failed to converge, increase the number of iterations.\n",
      "  warnings.warn(\n",
      "/databricks/python/lib/python3.10/site-packages/sklearn/svm/_base.py:1225: ConvergenceWarning: Liblinear failed to converge, increase the number of iterations.\n",
      "  warnings.warn(\n",
      "/databricks/python/lib/python3.10/site-packages/sklearn/svm/_base.py:1225: ConvergenceWarning: Liblinear failed to converge, increase the number of iterations.\n",
      "  warnings.warn(\n",
      "/databricks/python/lib/python3.10/site-packages/sklearn/svm/_base.py:1225: ConvergenceWarning: Liblinear failed to converge, increase the number of iterations.\n",
      "  warnings.warn(\n",
      "/databricks/python/lib/python3.10/site-packages/sklearn/svm/_base.py:1225: ConvergenceWarning: Liblinear failed to converge, increase the number of iterations.\n",
      "  warnings.warn(\n",
      "/databricks/python/lib/python3.10/site-packages/sklearn/svm/_base.py:1225: ConvergenceWarning: Liblinear failed to converge, increase the number of iterations.\n",
      "  warnings.warn(\n",
      "/databricks/python/lib/python3.10/site-packages/sklearn/svm/_base.py:1225: ConvergenceWarning: Liblinear failed to converge, increase the number of iterations.\n",
      "  warnings.warn(\n",
      "/databricks/python/lib/python3.10/site-packages/sklearn/svm/_base.py:1225: ConvergenceWarning: Liblinear failed to converge, increase the number of iterations.\n",
      "  warnings.warn(\n",
      "/databricks/python/lib/python3.10/site-packages/sklearn/svm/_base.py:1225: ConvergenceWarning: Liblinear failed to converge, increase the number of iterations.\n",
      "  warnings.warn(\n",
      "/databricks/python/lib/python3.10/site-packages/sklearn/svm/_base.py:1225: ConvergenceWarning: Liblinear failed to converge, increase the number of iterations.\n",
      "  warnings.warn(\n",
      "/databricks/python/lib/python3.10/site-packages/sklearn/svm/_base.py:1225: ConvergenceWarning: Liblinear failed to converge, increase the number of iterations.\n",
      "  warnings.warn(\n",
      "/databricks/python/lib/python3.10/site-packages/sklearn/svm/_base.py:1225: ConvergenceWarning: Liblinear failed to converge, increase the number of iterations.\n",
      "  warnings.warn(\n",
      "/databricks/python/lib/python3.10/site-packages/sklearn/svm/_base.py:1225: ConvergenceWarning: Liblinear failed to converge, increase the number of iterations.\n",
      "  warnings.warn(\n",
      "/databricks/python/lib/python3.10/site-packages/sklearn/svm/_base.py:1225: ConvergenceWarning: Liblinear failed to converge, increase the number of iterations.\n",
      "  warnings.warn(\n",
      "/databricks/python/lib/python3.10/site-packages/sklearn/svm/_base.py:1225: ConvergenceWarning: Liblinear failed to converge, increase the number of iterations.\n",
      "  warnings.warn(\n",
      "/databricks/python/lib/python3.10/site-packages/sklearn/svm/_base.py:1225: ConvergenceWarning: Liblinear failed to converge, increase the number of iterations.\n",
      "  warnings.warn(\n",
      "/databricks/python/lib/python3.10/site-packages/sklearn/svm/_base.py:1225: ConvergenceWarning: Liblinear failed to converge, increase the number of iterations.\n",
      "  warnings.warn(\n",
      "/databricks/python/lib/python3.10/site-packages/sklearn/svm/_base.py:1225: ConvergenceWarning: Liblinear failed to converge, increase the number of iterations.\n",
      "  warnings.warn(\n",
      "/databricks/python/lib/python3.10/site-packages/sklearn/svm/_base.py:1225: ConvergenceWarning: Liblinear failed to converge, increase the number of iterations.\n",
      "  warnings.warn(\n",
      "/databricks/python/lib/python3.10/site-packages/sklearn/svm/_base.py:1225: ConvergenceWarning: Liblinear failed to converge, increase the number of iterations.\n",
      "  warnings.warn(\n"
     ]
    },
    {
     "data": {
      "application/vnd.jupyter.widget-view+json": {
       "model_id": "3e3555f7b7bc4be59c288f1661c38514",
       "version_major": 2,
       "version_minor": 0
      },
      "text/plain": [
       "Uploading artifacts:   0%|          | 0/3 [00:00<?, ?it/s]"
      ]
     },
     "metadata": {},
     "output_type": "display_data"
    },
    {
     "data": {
      "application/vnd.jupyter.widget-view+json": {
       "model_id": "38b086e09fab44d9bbb937824a217419",
       "version_major": 2,
       "version_minor": 0
      },
      "text/plain": [
       "Uploading artifacts:   0%|          | 0/5 [00:00<?, ?it/s]"
      ]
     },
     "metadata": {},
     "output_type": "display_data"
    },
    {
     "data": {
      "application/vnd.jupyter.widget-view+json": {
       "model_id": "8335d1cd0e714287a26e4484fadb4bf1",
       "version_major": 2,
       "version_minor": 0
      },
      "text/plain": [
       "Uploading artifacts:   0%|          | 0/5 [00:00<?, ?it/s]"
      ]
     },
     "metadata": {},
     "output_type": "display_data"
    },
    {
     "data": {
      "application/vnd.jupyter.widget-view+json": {
       "model_id": "ef68500e40504873b542e2d3a5ec676c",
       "version_major": 2,
       "version_minor": 0
      },
      "text/plain": [
       "Uploading artifacts:   0%|          | 0/3 [00:00<?, ?it/s]"
      ]
     },
     "metadata": {},
     "output_type": "display_data"
    },
    {
     "data": {
      "application/vnd.jupyter.widget-view+json": {
       "model_id": "86128720aa7140fd8d1bad684d4f07cc",
       "version_major": 2,
       "version_minor": 0
      },
      "text/plain": [
       "Uploading artifacts:   0%|          | 0/5 [00:00<?, ?it/s]"
      ]
     },
     "metadata": {},
     "output_type": "display_data"
    },
    {
     "data": {
      "application/vnd.jupyter.widget-view+json": {
       "model_id": "f2dd877b75e14073a50ee8f21afd5fd2",
       "version_major": 2,
       "version_minor": 0
      },
      "text/plain": [
       "Uploading artifacts:   0%|          | 0/5 [00:00<?, ?it/s]"
      ]
     },
     "metadata": {},
     "output_type": "display_data"
    },
    {
     "data": {
      "application/vnd.jupyter.widget-view+json": {
       "model_id": "ff19a0edf3824733b186e5248f8dabc1",
       "version_major": 2,
       "version_minor": 0
      },
      "text/plain": [
       "Uploading artifacts:   0%|          | 0/3 [00:00<?, ?it/s]"
      ]
     },
     "metadata": {},
     "output_type": "display_data"
    },
    {
     "data": {
      "application/vnd.jupyter.widget-view+json": {
       "model_id": "d2a0712ded82433b92a3a71ed9f13893",
       "version_major": 2,
       "version_minor": 0
      },
      "text/plain": [
       "Uploading artifacts:   0%|          | 0/5 [00:00<?, ?it/s]"
      ]
     },
     "metadata": {},
     "output_type": "display_data"
    },
    {
     "data": {
      "application/vnd.jupyter.widget-view+json": {
       "model_id": "b7e0f5b3eee843918c3f557f9b51fb82",
       "version_major": 2,
       "version_minor": 0
      },
      "text/plain": [
       "Uploading artifacts:   0%|          | 0/5 [00:00<?, ?it/s]"
      ]
     },
     "metadata": {},
     "output_type": "display_data"
    },
    {
     "data": {
      "application/vnd.jupyter.widget-view+json": {
       "model_id": "5a3c4ddb785e4c5f8fdc7ce946173071",
       "version_major": 2,
       "version_minor": 0
      },
      "text/plain": [
       "Uploading artifacts:   0%|          | 0/3 [00:00<?, ?it/s]"
      ]
     },
     "metadata": {},
     "output_type": "display_data"
    },
    {
     "data": {
      "application/vnd.jupyter.widget-view+json": {
       "model_id": "54e61f522468404a816393bb8b839acb",
       "version_major": 2,
       "version_minor": 0
      },
      "text/plain": [
       "Uploading artifacts:   0%|          | 0/5 [00:00<?, ?it/s]"
      ]
     },
     "metadata": {},
     "output_type": "display_data"
    },
    {
     "data": {
      "application/vnd.jupyter.widget-view+json": {
       "model_id": "bed4761aa3ef4945b1535f1f200bb259",
       "version_major": 2,
       "version_minor": 0
      },
      "text/plain": [
       "Uploading artifacts:   0%|          | 0/5 [00:00<?, ?it/s]"
      ]
     },
     "metadata": {},
     "output_type": "display_data"
    }
   ],
   "source": [
    "from sklearn.model_selection import GridSearchCV, RandomizedSearchCV\n",
    "# Assuming you have a Spark DataFrame called 'df'\n",
    "\n",
    "# Import necessary libraries\n",
    "import pandas as p\n",
    "from sklearn.model_selection import train_test_split\n",
    "from sklearn.linear_model import LogisticRegression, Perceptron\n",
    "from sklearn.metrics import accuracy_score\n",
    "from sklearn.tree import DecisionTreeClassifier\n",
    "from sklearn.ensemble import RandomForestClassifier\n",
    "from sklearn.metrics import accuracy_score\n",
    "import matplotlib.pyplot as plt\n",
    "import xgboost as xgb\n",
    "import pyspark.pandas as ps\n",
    "\n",
    "# Seleccionar las columnas necesarias en el DataFrame Spark\n",
    "X_spark = df[['arriveDifference', 'departureDifference', 'onTimeDeparture', 'avg_speed', 'distance']]\n",
    "# Convertir el DataFrame Spark a un DataFrame de pandas\n",
    "X_pd = X_spark.to_pandas()\n",
    "\n",
    "# Seleccionar la columna target en el DataFrame Spark\n",
    "y_spark = df['onTimeArrival']\n",
    "\n",
    "# Convertir el DataFrame Spark a una Serie de pandas\n",
    "y_pd = y_spark.to_pandas()\n",
    "\n",
    "\n",
    "# Check the number of samples in X and y\n",
    "print(\"Number of samples in X:\", X_pd.shape[0])\n",
    "print(\"Number of samples in y:\", y_pd.shape[0])\n",
    "\n",
    "# Split the data into training and test sets\n",
    "X_train, X_test, y_train, y_test = train_test_split(X_pd, y_pd, test_size=0.2, random_state=42)\n",
    "# Espacio de búsqueda para Logistic Regression\n",
    "logistic_params = {\n",
    "    'penalty': ['l1', 'l2'],\n",
    "    'C': [0.001, 0.01, 0.1, 1, 10, 100],\n",
    "    'solver': ['liblinear']\n",
    "}\n",
    "\n",
    "# Espacio de búsqueda para Decision Tree\n",
    "decision_tree_params = {\n",
    "    'criterion': ['gini', 'entropy'],\n",
    "    'max_depth': [None, 10, 20, 30, 40, 50],\n",
    "    'min_samples_split': [2, 5, 10],\n",
    "    'min_samples_leaf': [1, 2, 4]\n",
    "}\n",
    "\n",
    "# Espacio de búsqueda para Random Forest\n",
    "random_forest_params = {\n",
    "    'n_estimators': [100, 200, 300],\n",
    "    'max_depth': [None, 10, 20, 30, 40, 50],\n",
    "    'min_samples_split': [2, 5, 10],\n",
    "    'min_samples_leaf': [1, 2, 4],\n",
    "    'bootstrap': [True, False]\n",
    "}\n",
    "\n",
    "# Espacio de búsqueda para XGBoost\n",
    "xgboost_params = {\n",
    "    'learning_rate': [0.01, 0.1, 0.2],\n",
    "    'max_depth': [3, 5, 7, 9],\n",
    "    'n_estimators': [100, 200, 300],\n",
    "    'gamma': [0, 0.1, 0.2, 0.3]\n",
    "}\n",
    "\n",
    "# Realizar búsqueda de hiperparámetros para cada modelo\n",
    "logistic_grid = GridSearchCV(LogisticRegression(), logistic_params, cv=5)\n",
    "logistic_grid.fit(X_train, y_train)\n",
    "\n",
    "tree_grid = GridSearchCV(DecisionTreeClassifier(), decision_tree_params, cv=5)\n",
    "tree_grid.fit(X_train, y_train)\n",
    "\n",
    "rf_grid = RandomizedSearchCV(RandomForestClassifier(), random_forest_params, n_iter=100, cv=5)\n",
    "rf_grid.fit(X_train, y_train)\n",
    "\n",
    "xgboost_grid = RandomizedSearchCV(xgb.XGBClassifier(), xgboost_params, n_iter=100, cv=5)\n",
    "xgboost_grid.fit(X_train, y_train)\n",
    "\n",
    "# Obtener los mejores estimadores\n",
    "best_logistic = logistic_grid.best_estimator_\n",
    "best_tree = tree_grid.best_estimator_\n",
    "best_rf = rf_grid.best_estimator_\n",
    "best_xgboost = xgboost_grid.best_estimator_\n"
   ]
  },
  {
   "cell_type": "markdown",
   "metadata": {
    "application/vnd.databricks.v1+cell": {
     "cellMetadata": {},
     "inputWidgets": {},
     "nuid": "11266d83-82bf-45cc-a41c-7e78359b3d75",
     "showTitle": false,
     "title": ""
    }
   },
   "source": [
    "## Estrategias de ensamble\n",
    "\n",
    "La tecnica que estamos implementado para el modelo final es la de ensamble que consiste en combinar múltiples modelos predictivos para mejorar el rendimiento general del sistema, para el que combinamos los modelos implementados anteriormente."
   ]
  },
  {
   "cell_type": "code",
   "execution_count": null,
   "metadata": {
    "application/vnd.databricks.v1+cell": {
     "cellMetadata": {
      "byteLimit": 2048000,
      "rowLimit": 10000
     },
     "inputWidgets": {},
     "nuid": "fe9fdf8f-e32d-4059-b768-8fdfc15a31e8",
     "showTitle": false,
     "title": ""
    }
   },
   "outputs": [],
   "source": [
    "from sklearn.ensemble import VotingClassifier, StackingClassifier\n",
    "\n",
    "# Estrategia de ensamble Voting\n",
    "voting_classifier = VotingClassifier(estimators=[\n",
    "    ('logistic', best_logistic),\n",
    "    ('decision_tree', best_tree),\n",
    "    ('random_forest', best_rf),\n",
    "    ('xgboost', best_xgboost)\n",
    "], voting='hard')\n",
    "\n",
    "# Estrategia de ensamble Stacking\n",
    "stacking_classifier = StackingClassifier(estimators=[\n",
    "    ('logistic', best_logistic),\n",
    "    ('decision_tree', best_tree),\n",
    "    ('random_forest', best_rf),\n",
    "    ('xgboost', best_xgboost)\n",
    "], final_estimator=best_logistic)  # Usamos Logistic Regression como clasificador final en el stacking\n"
   ]
  },
  {
   "cell_type": "markdown",
   "metadata": {
    "application/vnd.databricks.v1+cell": {
     "cellMetadata": {},
     "inputWidgets": {},
     "nuid": "c802f746-03ba-4803-8859-7600531b3e47",
     "showTitle": false,
     "title": ""
    }
   },
   "source": [
    "## Comparativa de modelos"
   ]
  },
  {
   "cell_type": "markdown",
   "metadata": {
    "application/vnd.databricks.v1+cell": {
     "cellMetadata": {},
     "inputWidgets": {},
     "nuid": "8c650ff6-237d-43e0-9b0d-f9a356e04eff",
     "showTitle": false,
     "title": ""
    }
   },
   "source": [
    "### Metricos"
   ]
  },
  {
   "cell_type": "code",
   "execution_count": null,
   "metadata": {
    "application/vnd.databricks.v1+cell": {
     "cellMetadata": {
      "byteLimit": 2048000,
      "rowLimit": 10000
     },
     "inputWidgets": {},
     "nuid": "28c38838-41a5-46e4-b3dc-c6365739c1ca",
     "showTitle": false,
     "title": ""
    }
   },
   "outputs": [
    {
     "name": "stderr",
     "output_type": "stream",
     "text": [
      "/databricks/python/lib/python3.10/site-packages/sklearn/svm/_base.py:1225: ConvergenceWarning: Liblinear failed to converge, increase the number of iterations.\n",
      "  warnings.warn(\n"
     ]
    },
    {
     "data": {
      "application/vnd.jupyter.widget-view+json": {
       "model_id": "4b3e2f951a2e41d387a87105e7e825c8",
       "version_major": 2,
       "version_minor": 0
      },
      "text/plain": [
       "Uploading artifacts:   0%|          | 0/1 [00:00<?, ?it/s]"
      ]
     },
     "metadata": {},
     "output_type": "display_data"
    },
    {
     "data": {
      "application/vnd.jupyter.widget-view+json": {
       "model_id": "3dda99ee12d147eda4319f0d0879bb3b",
       "version_major": 2,
       "version_minor": 0
      },
      "text/plain": [
       "Uploading artifacts:   0%|          | 0/5 [00:00<?, ?it/s]"
      ]
     },
     "metadata": {},
     "output_type": "display_data"
    },
    {
     "name": "stderr",
     "output_type": "stream",
     "text": [
      "/databricks/python/lib/python3.10/site-packages/sklearn/svm/_base.py:1225: ConvergenceWarning: Liblinear failed to converge, increase the number of iterations.\n",
      "  warnings.warn(\n",
      "/databricks/python/lib/python3.10/site-packages/sklearn/svm/_base.py:1225: ConvergenceWarning: Liblinear failed to converge, increase the number of iterations.\n",
      "  warnings.warn(\n",
      "/databricks/python/lib/python3.10/site-packages/sklearn/svm/_base.py:1225: ConvergenceWarning: Liblinear failed to converge, increase the number of iterations.\n",
      "  warnings.warn(\n",
      "/databricks/python/lib/python3.10/site-packages/sklearn/svm/_base.py:1225: ConvergenceWarning: Liblinear failed to converge, increase the number of iterations.\n",
      "  warnings.warn(\n",
      "/databricks/python/lib/python3.10/site-packages/sklearn/svm/_base.py:1225: ConvergenceWarning: Liblinear failed to converge, increase the number of iterations.\n",
      "  warnings.warn(\n",
      "/databricks/python/lib/python3.10/site-packages/sklearn/metrics/_classification.py:1327: UndefinedMetricWarning: Precision is ill-defined and being set to 0.0 in labels with no predicted samples. Use `zero_division` parameter to control this behavior.\n",
      "  _warn_prf(average, modifier, msg_start, len(result))\n"
     ]
    },
    {
     "data": {
      "application/vnd.jupyter.widget-view+json": {
       "model_id": "e74963e7ffc3450a80544553ec082bb1",
       "version_major": 2,
       "version_minor": 0
      },
      "text/plain": [
       "Uploading artifacts:   0%|          | 0/3 [00:00<?, ?it/s]"
      ]
     },
     "metadata": {},
     "output_type": "display_data"
    },
    {
     "data": {
      "application/vnd.jupyter.widget-view+json": {
       "model_id": "c159b0ff6d534469870e1ca1c0e99bf2",
       "version_major": 2,
       "version_minor": 0
      },
      "text/plain": [
       "Uploading artifacts:   0%|          | 0/5 [00:00<?, ?it/s]"
      ]
     },
     "metadata": {},
     "output_type": "display_data"
    },
    {
     "name": "stderr",
     "output_type": "stream",
     "text": [
      "/databricks/python/lib/python3.10/site-packages/sklearn/metrics/_classification.py:1327: UndefinedMetricWarning: Precision is ill-defined and being set to 0.0 due to no predicted samples. Use `zero_division` parameter to control this behavior.\n",
      "  _warn_prf(average, modifier, msg_start, len(result))\n"
     ]
    },
    {
     "name": "stdout",
     "output_type": "stream",
     "text": [
      "                Modelo  Precisión  ...  F1-Score  Tiempo de Entrenamiento (s)\n",
      "0  Logistic Regression        1.0  ...       1.0                     0.000000\n",
      "1        Decision Tree        1.0  ...       1.0                     0.000000\n",
      "2        Random Forest        1.0  ...       1.0                     0.000000\n",
      "3              XGBoost        1.0  ...       1.0                     0.000000\n",
      "4    Voting Classifier        1.0  ...       1.0                     7.954953\n",
      "5  Stacking Classifier        0.0  ...       0.0                    12.922809\n",
      "\n",
      "[6 rows x 5 columns]\n"
     ]
    }
   ],
   "source": [
    "import pandas as pd\n",
    "\n",
    "from sklearn.metrics import precision_score, recall_score, f1_score\n",
    "import time\n",
    "\n",
    "def calcular_metricas(modelo, X_test, y_test):\n",
    "    inicio = time.time()\n",
    "    y_pred = modelo.predict(X_test)\n",
    "    tiempo_entrenamiento = time.time() - inicio\n",
    "    precision = precision_score(y_test, y_pred)\n",
    "    recall = recall_score(y_test, y_pred)\n",
    "    f1 = f1_score(y_test, y_pred)\n",
    "    return {'precision': precision, 'recall': recall, 'f1_score': f1, 'tiempo_entrenamiento': tiempo_entrenamiento}\n",
    "\n",
    "# Calcular tiempo de entrenamiento para Voting Classifier\n",
    "inicio = time.time()\n",
    "voting_classifier.fit(X_train, y_train)\n",
    "tiempo_entrenamiento_voting = time.time() - inicio\n",
    "\n",
    "# Calcular tiempo de entrenamiento para Stacking Classifier\n",
    "inicio = time.time()\n",
    "stacking_classifier.fit(X_train, y_train)\n",
    "tiempo_entrenamiento_stacking = time.time() - inicio\n",
    "\n",
    "# Calcular métricas para los modelos individuales\n",
    "logistic_metrics = calcular_metricas(best_logistic, X_test, y_test)\n",
    "tree_metrics = calcular_metricas(best_tree, X_test, y_test)\n",
    "rf_metrics = calcular_metricas(best_rf, X_test, y_test)\n",
    "xgboost_metrics = calcular_metricas(best_xgboost, X_test, y_test)\n",
    "\n",
    "# Calcular métricas para los modelos de ensamble\n",
    "voting_metrics = calcular_metricas(voting_classifier, X_test, y_test)\n",
    "stacking_metrics = calcular_metricas(stacking_classifier, X_test, y_test)\n",
    "\n",
    "# Crear dataframe con las métricas\n",
    "data = {\n",
    "    'Modelo': ['Logistic Regression', 'Decision Tree', 'Random Forest', 'XGBoost', 'Voting Classifier', 'Stacking Classifier'],\n",
    "    'Precisión': [logistic_metrics['precision'], tree_metrics['precision'], rf_metrics['precision'], xgboost_metrics['precision'], voting_metrics['precision'], stacking_metrics['precision']],\n",
    "    'Recall': [logistic_metrics['recall'], tree_metrics['recall'], rf_metrics['recall'], xgboost_metrics['recall'], voting_metrics['recall'], stacking_metrics['recall']],\n",
    "    'F1-Score': [logistic_metrics['f1_score'], tree_metrics['f1_score'], rf_metrics['f1_score'], xgboost_metrics['f1_score'], voting_metrics['f1_score'], stacking_metrics['f1_score']],\n",
    "    'Tiempo de Entrenamiento (s)': [0, 0, 0, 0, tiempo_entrenamiento_voting, tiempo_entrenamiento_stacking]\n",
    "}\n",
    "\n",
    "df_comparativa = pd.DataFrame(data)\n",
    "\n",
    "# Mostrar la tabla comparativa\n",
    "print(df_comparativa)\n"
   ]
  },
  {
   "cell_type": "markdown",
   "metadata": {
    "application/vnd.databricks.v1+cell": {
     "cellMetadata": {},
     "inputWidgets": {},
     "nuid": "c8e7c188-3fea-45ef-941b-9c28d9cde6b6",
     "showTitle": false,
     "title": ""
    }
   },
   "source": [
    "### Graficos significativos de medicion de resultados"
   ]
  },
  {
   "cell_type": "markdown",
   "metadata": {
    "application/vnd.databricks.v1+cell": {
     "cellMetadata": {},
     "inputWidgets": {},
     "nuid": "5c45387f-5dc4-4fdc-bb7d-3ca928ca875b",
     "showTitle": false,
     "title": ""
    }
   },
   "source": [
    "### Curva ROC"
   ]
  },
  {
   "cell_type": "code",
   "execution_count": null,
   "metadata": {
    "application/vnd.databricks.v1+cell": {
     "cellMetadata": {
      "byteLimit": 2048000,
      "rowLimit": 10000
     },
     "inputWidgets": {},
     "nuid": "0e77cd4c-d515-4e7b-8a30-5d018b2fe5c5",
     "showTitle": false,
     "title": ""
    }
   },
   "outputs": [
    {
     "name": "stderr",
     "output_type": "stream",
     "text": [
      "/databricks/python/lib/python3.10/site-packages/sklearn/utils/deprecation.py:87: FutureWarning: Function plot_roc_curve is deprecated; Function :func:`plot_roc_curve` is deprecated in 1.0 and will be removed in 1.2. Use one of the class methods: :meth:`sklearn.metric.RocCurveDisplay.from_predictions` or :meth:`sklearn.metric.RocCurveDisplay.from_estimator`.\n",
      "  warnings.warn(msg, category=FutureWarning)\n"
     ]
    },
    {
     "data": {
      "text/plain": [
       "<Figure size 800x600 with 0 Axes>"
      ]
     },
     "metadata": {},
     "output_type": "display_data"
    },
    {
     "data": {
      "image/png": "[encoded data removed]",
      "text/plain": [
       "<Figure size 640x480 with 1 Axes>"
      ]
     },
     "metadata": {},
     "output_type": "display_data"
    }
   ],
   "source": [
    "from sklearn.metrics import plot_roc_curve\n",
    "\n",
    "# Crear el gráfico de la curva ROC\n",
    "plt.figure(figsize=(8, 6))\n",
    "plot_roc_curve(stacking_classifier, X_test, y_test)\n",
    "plt.title('Curva ROC - Stacking Classifier')\n",
    "plt.show()\n"
   ]
  },
  {
   "cell_type": "code",
   "execution_count": null,
   "metadata": {
    "application/vnd.databricks.v1+cell": {
     "cellMetadata": {
      "byteLimit": 2048000,
      "rowLimit": 10000
     },
     "inputWidgets": {},
     "nuid": "b9a06ff4-950b-42a3-9a40-c4f925249a95",
     "showTitle": false,
     "title": ""
    }
   },
   "outputs": [
    {
     "data": {
      "image/png": "[encoded data removed]",
      "text/plain": [
       "<Figure size 800x600 with 1 Axes>"
      ]
     },
     "metadata": {},
     "output_type": "display_data"
    }
   ],
   "source": [
    "\n",
    "#Curva Roc para Voting Classifier\n",
    "from sklearn.metrics import roc_curve, auc\n",
    "import numpy as np\n",
    "\n",
    "# Calcular las probabilidades de predicción\n",
    "y_prob = np.zeros(len(y_test))\n",
    "for estimator in voting_classifier.estimators_:\n",
    "    y_prob += estimator.predict_proba(X_test)[:, 1]\n",
    "y_prob /= len(voting_classifier.estimators_)\n",
    "\n",
    "# Calcular la tasa de verdaderos positivos y la tasa de falsos positivos\n",
    "fpr, tpr, _ = roc_curve(y_test, y_prob)\n",
    "\n",
    "# Calcular el área bajo la curva ROC (AUC)\n",
    "roc_auc = auc(fpr, tpr)\n",
    "\n",
    "# Crear el gráfico de la curva ROC\n",
    "plt.figure(figsize=(8, 6))\n",
    "plt.plot(fpr, tpr, color='blue', lw=2, label='ROC curve (area = %0.2f)' % roc_auc)\n",
    "plt.plot([0, 1], [0, 1], color='red', linestyle='--')\n",
    "plt.xlabel('False Positive Rate')\n",
    "plt.ylabel('True Positive Rate')\n",
    "plt.title('Curva ROC - Voting Classifier')\n",
    "plt.legend(loc=\"lower right\")\n",
    "plt.show()\n"
   ]
  },
  {
   "cell_type": "markdown",
   "metadata": {
    "application/vnd.databricks.v1+cell": {
     "cellMetadata": {},
     "inputWidgets": {},
     "nuid": "0f867f1b-599a-46d5-9c6c-6695b7b48944",
     "showTitle": false,
     "title": ""
    }
   },
   "source": [
    "### Matriz de Confusión"
   ]
  },
  {
   "cell_type": "code",
   "execution_count": null,
   "metadata": {
    "application/vnd.databricks.v1+cell": {
     "cellMetadata": {
      "byteLimit": 2048000,
      "rowLimit": 10000
     },
     "inputWidgets": {},
     "nuid": "7fd499bf-e21b-4454-a6d1-e260c6725151",
     "showTitle": false,
     "title": ""
    }
   },
   "outputs": [
    {
     "name": "stderr",
     "output_type": "stream",
     "text": [
      "/databricks/python/lib/python3.10/site-packages/sklearn/utils/deprecation.py:87: FutureWarning: Function plot_confusion_matrix is deprecated; Function `plot_confusion_matrix` is deprecated in 1.0 and will be removed in 1.2. Use one of the class methods: ConfusionMatrixDisplay.from_predictions or ConfusionMatrixDisplay.from_estimator.\n",
      "  warnings.warn(msg, category=FutureWarning)\n"
     ]
    },
    {
     "data": {
      "text/plain": [
       "<Figure size 800x600 with 0 Axes>"
      ]
     },
     "metadata": {},
     "output_type": "display_data"
    },
    {
     "data": {
      "image/png": "[encoded data removed]",
      "text/plain": [
       "<Figure size 640x480 with 2 Axes>"
      ]
     },
     "metadata": {},
     "output_type": "display_data"
    }
   ],
   "source": [
    "from sklearn.metrics import plot_confusion_matrix\n",
    "\n",
    "# Crear la matriz de confusión\n",
    "plt.figure(figsize=(8, 6))\n",
    "plot_confusion_matrix(stacking_classifier, X_test, y_test, cmap=plt.cm.Blues)\n",
    "plt.title('Matriz de Confusión - Stacking Classifier')\n",
    "plt.show()\n"
   ]
  },
  {
   "cell_type": "code",
   "execution_count": null,
   "metadata": {
    "application/vnd.databricks.v1+cell": {
     "cellMetadata": {
      "byteLimit": 2048000,
      "rowLimit": 10000
     },
     "inputWidgets": {},
     "nuid": "752539a4-e445-424e-a9e5-ca68d3fa15b8",
     "showTitle": false,
     "title": ""
    }
   },
   "outputs": [
    {
     "name": "stderr",
     "output_type": "stream",
     "text": [
      "/databricks/python/lib/python3.10/site-packages/sklearn/utils/deprecation.py:87: FutureWarning: Function plot_confusion_matrix is deprecated; Function `plot_confusion_matrix` is deprecated in 1.0 and will be removed in 1.2. Use one of the class methods: ConfusionMatrixDisplay.from_predictions or ConfusionMatrixDisplay.from_estimator.\n",
      "  warnings.warn(msg, category=FutureWarning)\n"
     ]
    },
    {
     "data": {
      "text/plain": [
       "<Figure size 800x600 with 0 Axes>"
      ]
     },
     "metadata": {},
     "output_type": "display_data"
    },
    {
     "data": {
      "image/png": "[encoded data removed]",
      "text/plain": [
       "<Figure size 640x480 with 2 Axes>"
      ]
     },
     "metadata": {},
     "output_type": "display_data"
    }
   ],
   "source": [
    "#Matriz de confucion Voting classifier\n",
    "from sklearn.metrics import plot_confusion_matrix\n",
    "\n",
    "# Crear la matriz de confusión\n",
    "plt.figure(figsize=(8, 6))\n",
    "plot_confusion_matrix(voting_classifier, X_test, y_test, cmap=plt.cm.Blues)\n",
    "plt.title('Matriz de Confusión - Voting Classifier')\n",
    "plt.show()\n"
   ]
  },
  {
   "cell_type": "markdown",
   "metadata": {
    "application/vnd.databricks.v1+cell": {
     "cellMetadata": {},
     "inputWidgets": {},
     "nuid": "9c9f3c50-c8df-4889-9bc6-a065bad7ea81",
     "showTitle": false,
     "title": ""
    }
   },
   "source": [
    "### Curva de Precisión-Recall"
   ]
  },
  {
   "cell_type": "code",
   "execution_count": null,
   "metadata": {
    "application/vnd.databricks.v1+cell": {
     "cellMetadata": {
      "byteLimit": 2048000,
      "rowLimit": 10000
     },
     "inputWidgets": {},
     "nuid": "1f3303c1-1e36-448e-a1f8-10da3b3d1875",
     "showTitle": false,
     "title": ""
    }
   },
   "outputs": [
    {
     "name": "stderr",
     "output_type": "stream",
     "text": [
      "/databricks/python/lib/python3.10/site-packages/sklearn/utils/deprecation.py:87: FutureWarning: Function plot_precision_recall_curve is deprecated; Function `plot_precision_recall_curve` is deprecated in 1.0 and will be removed in 1.2. Use one of the class methods: PrecisionRecallDisplay.from_predictions or PrecisionRecallDisplay.from_estimator.\n",
      "  warnings.warn(msg, category=FutureWarning)\n"
     ]
    },
    {
     "data": {
      "text/plain": [
       "<Figure size 800x600 with 0 Axes>"
      ]
     },
     "metadata": {},
     "output_type": "display_data"
    },
    {
     "data": {
      "image/png": "[encoded data removed]",
      "text/plain": [
       "<Figure size 640x480 with 1 Axes>"
      ]
     },
     "metadata": {},
     "output_type": "display_data"
    }
   ],
   "source": [
    "from sklearn.metrics import plot_precision_recall_curve\n",
    "\n",
    "# Crear el gráfico de la curva de precisión-recall\n",
    "plt.figure(figsize=(8, 6))\n",
    "plot_precision_recall_curve(stacking_classifier, X_test, y_test)\n",
    "plt.title('Curva de Precisión-Recall - Stacking Classifier')\n",
    "plt.show()\n"
   ]
  },
  {
   "cell_type": "code",
   "execution_count": null,
   "metadata": {
    "application/vnd.databricks.v1+cell": {
     "cellMetadata": {
      "byteLimit": 2048000,
      "rowLimit": 10000
     },
     "inputWidgets": {},
     "nuid": "0be26253-0fc3-4c16-99e7-c168be7f510e",
     "showTitle": false,
     "title": ""
    }
   },
   "outputs": [
    {
     "data": {
      "image/png": "[encoded data removed]",
      "text/plain": [
       "<Figure size 800x600 with 1 Axes>"
      ]
     },
     "metadata": {},
     "output_type": "display_data"
    }
   ],
   "source": [
    "##Prediccion recall Voting Classifier\n",
    "from sklearn.metrics import precision_recall_curve, average_precision_score\n",
    "\n",
    "# Calcular las probabilidades de predicción\n",
    "y_prob = np.zeros(len(y_test))\n",
    "for estimator in voting_classifier.estimators_:\n",
    "    y_prob += estimator.predict_proba(X_test)[:, 1]\n",
    "y_prob /= len(voting_classifier.estimators_)\n",
    "\n",
    "# Calcular la precisión y el recall\n",
    "precision, recall, _ = precision_recall_curve(y_test, y_prob)\n",
    "\n",
    "# Calcular el promedio de la precisión\n",
    "average_precision = average_precision_score(y_test, y_prob)\n",
    "\n",
    "# Crear el gráfico de la curva de precisión-recall\n",
    "plt.figure(figsize=(8, 6))\n",
    "plt.plot(recall, precision, color='blue', lw=2, label='Precision-Recall curve (AP = %0.2f)' % average_precision)\n",
    "plt.xlabel('Recall')\n",
    "plt.ylabel('Precision')\n",
    "plt.title('Curva de Precisión-Recall - Voting Classifier')\n",
    "plt.legend(loc=\"lower right\")\n",
    "plt.show()\n",
    "\n"
   ]
  },
  {
   "cell_type": "markdown",
   "metadata": {
    "application/vnd.databricks.v1+cell": {
     "cellMetadata": {},
     "inputWidgets": {},
     "nuid": "6ddb9a49-4bb5-4e57-a748-395ccd9ab0f3",
     "showTitle": false,
     "title": ""
    }
   },
   "source": [
    "### Conclusion\n",
    "\n",
    "En esta ocasión, estamos utilizando dos estrategias de ensamble en machine learning: Voting y Stacking. Posteriormente, comparamos el rendimiento de ambos con los modelos individuales.\n",
    "\n",
    "Las métricas que empleamos para evaluar los modelos son la precisión, el recall y el F1-Score.\n",
    "\n",
    "El modelo que mejor resultado nos brindó y que consideramos nuestro modelo final es el clasificador Voting, que combina las predicciones de múltiples modelos base utilizando alguna estrategia de votación (en este caso, \"hard\"). Además, contribuye a la reducción del sobreajuste para mejorar la generalización del modelo.\n"
   ]
  }
 ],
 "metadata": {
  "application/vnd.databricks.v1+notebook": {
   "dashboards": [],
   "language": "python",
   "notebookMetadata": {
    "pythonIndentUnit": 4
   },
   "notebookName": "ensembleML",
   "widgets": {}
  },
  "language_info": {
   "name": "python"
  }
 },
 "nbformat": 4,
 "nbformat_minor": 0
}
